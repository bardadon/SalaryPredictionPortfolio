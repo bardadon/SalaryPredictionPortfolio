{
 "cells": [
  {
   "cell_type": "code",
   "execution_count": 2,
   "metadata": {},
   "outputs": [],
   "source": [
    "__author__ = \"Bar Dadon\"\n",
    "__email__ = \"bdadon50@gmail.com\""
   ]
  },
  {
   "cell_type": "markdown",
   "metadata": {},
   "source": [
    "# <ins> Understanding and Predicting Employees Salary"
   ]
  },
  {
   "cell_type": "markdown",
   "metadata": {},
   "source": [
    "## Table of Contents"
   ]
  },
  {
   "cell_type": "markdown",
   "metadata": {},
   "source": [
    "### The Problem \n",
    "- [Why Do We Need to Predict employees salaries?](#problem)"
   ]
  },
  {
   "cell_type": "markdown",
   "metadata": {},
   "source": [
    "### Data Quality Check And Cleaning \n",
    "- [Simple Inspection of Data](#dataInspect)\n",
    "- [Summery Statistics](#Summery)"
   ]
  },
  {
   "cell_type": "markdown",
   "metadata": {},
   "source": [
    "### Exploratory data analysis\n",
    "- [Salary Inspection](#salaryInspect)\n",
    "- [Outliers Detection](#outliersDetection)\n",
    "- [Features Distribution](#featuresDistribution)\n",
    "- [Features Analysis](#FeaturesAnalysis)\n",
    "- [Correlation Analysis](#CorrelationAnalysis)\n",
    "- [Baseline Model](#BaselineModel)"
   ]
  },
  {
   "cell_type": "markdown",
   "metadata": {},
   "source": [
    "### Pre-Processing\n",
    "- [Categorical Data](#CategoricalData)\n",
    "- [Creating Train and Target Data Sets](#TrainAndTarget)"
   ]
  },
  {
   "cell_type": "markdown",
   "metadata": {},
   "source": [
    "### Develop\n",
    "- [Creating Models](#CreatingModels)\n",
    "- [Model Selection](#ModelSelection)"
   ]
  },
  {
   "cell_type": "markdown",
   "metadata": {},
   "source": [
    "### Deploy\n",
    "- [Pre:Processing Test data](#TestData)\n",
    "- [Feature Importance](#FeatureImportance)"
   ]
  },
  {
   "cell_type": "markdown",
   "metadata": {},
   "source": [
    "<a id= 'problem' ></a>\n",
    "# <ins> The Problem "
   ]
  },
  {
   "cell_type": "markdown",
   "metadata": {},
   "source": [
    " - __The Goal of This Project__ Is to Create a Model that Hr Teams Can Use to __Predict Their Employees Salaries and Accuratley Post Job Offers__ with the Right Salary that Will Appeal to the Right People.\n",
    "by Creating a Fast and Accurate Model that Predicts Salaries, __Companies Can Invest Their Hr Resources and Personnel__ Into Different Initiatives Like Properly __Filter Through Candidates__ or __Investing in Reducing Employees Turnover__ and So On.\n",
    "It Can Reduce Costs for The Company by Eliminating Cases Where the Employees Were Offered Salaries that Weren't Compatible with Their Value to The Company\n",
    "and Thus Were Over Paid, While Also Reduce Losing Applicants Because of Under Offers of Salaries.\n",
    "\n",
    "- __<ins>The Data at Our Disposal Consists of 1m Samples of Employees that Are Defined by The Features:</ins>__\n",
    "    1. Job Id\t\n",
    "    - Company Id\t\n",
    "    - Job Type\t\n",
    "    - Degree\t\n",
    "    - Major\t\n",
    "    - Industry\t\n",
    "    - Years Of Experience\t\n",
    "    - Miles from Metropolis\n",
    "\n",
    "\n",
    "- The Metric that Will Be Used in This Project Is MSE(Mean Squared Error)\n",
    "\n"
   ]
  },
  {
   "cell_type": "markdown",
   "metadata": {},
   "source": [
    "# <ins> Import Packages"
   ]
  },
  {
   "cell_type": "code",
   "execution_count": 3,
   "metadata": {},
   "outputs": [],
   "source": [
    "#import your libraries\n",
    "import pandas as pd\n",
    "import numpy as np\n",
    "import matplotlib.pyplot as plt\n",
    "import matplotlib as matplot\n",
    "import seaborn as sns\n",
    "from sklearn.ensemble import RandomForestRegressor, GradientBoostingRegressor\n",
    "from sklearn.ensemble import RandomForestClassifier\n",
    "from sklearn.model_selection import cross_val_score\n",
    "from sklearn.utils import shuffle\n",
    "from sklearn.metrics import mean_squared_error\n",
    "from sklearn.linear_model import LinearRegression\n",
    "from sklearn.pipeline import make_pipeline\n",
    "from sklearn.decomposition import PCA\n",
    "from sklearn.preprocessing import StandardScaler\n",
    "from sklearn import preprocessing , svm\n",
    "import math\n",
    "from sklearn.model_selection import train_test_split\n",
    "from sklearn.metrics import mean_squared_error as mse\n",
    "%matplotlib inline"
   ]
  },
  {
   "cell_type": "markdown",
   "metadata": {},
   "source": [
    "# <ins> General functions"
   ]
  },
  {
   "cell_type": "code",
   "execution_count": 4,
   "metadata": {},
   "outputs": [],
   "source": [
    "def load_file(file):\n",
    "    '''Loads a csv file'''\n",
    "    return pd.read_csv(file)\n",
    "\n",
    "def consolidate_data(df1, df2, key=None, left_index=False, right_index=False):\n",
    "    '''Merge two Data Frames, return only records that appear in both data sets'''\n",
    "    return pd.merge(left = df1, right = df2, how = 'inner',on = key, left_index=False, right_index=False)\n",
    "\n",
    "def describe_dataframe(df=pd.DataFrame()):\n",
    "    \"\"\"This function generates descriptive stats of a dataframe\n",
    "    Args:\n",
    "        df (dataframe): the dataframe to be analyzed\n",
    "    Returns:\n",
    "        None\n",
    "\n",
    "    \"\"\"\n",
    "    print(\"\\n\\n\")\n",
    "    print(\"*\"*30)\n",
    "    print(\"About the Data\")\n",
    "    print(\"*\"*30)\n",
    "    \n",
    "    print(\"Number of rows::\",df.shape[0])\n",
    "    print(\"Number of columns::\",df.shape[1])\n",
    "    print(\"\\n\")\n",
    "    \n",
    "    print(\"Column Names::\",df.columns.values.tolist())\n",
    "    print(\"\\n\")\n",
    "    \n",
    "    print(\"Column Data Types::\\n\",df.dtypes)\n",
    "    print(\"\\n\")\n",
    "    \n",
    "    print(\"Columns with Missing Values::\",df.columns[df.isnull().any()].tolist())\n",
    "    print(\"\\n\")\n",
    "    \n",
    "    print(\"Number of rows with Missing Values::\",len(pd.isnull(df).any(1).to_numpy().nonzero()[0].tolist()))\n",
    "    print(\"\\n\")\n",
    "    \n",
    "    print(\"Sample Indices with missing data::\",pd.isnull(df).any(1).to_numpy().nonzero()[0].tolist()[0:5])\n",
    "    print(\"\\n\")\n",
    "    \n",
    "    print(\"General Stats::\")\n",
    "    print(df.info())\n",
    "    print(\"\\n\")\n",
    "    \n",
    "    print('Summery Stats(Numerical): ')\n",
    "    print(df.describe())\n",
    "    print('\\n')\n",
    "    \n",
    "    \n",
    "    print('Summery Stats(Objects): ')\n",
    "    print(df.astype('object').describe().transpose())\n",
    "    print('\\n')\n",
    "    \n",
    "    print(\"Dataframe Sample Rows::\")\n",
    "    display(df.head(5))"
   ]
  },
  {
   "cell_type": "markdown",
   "metadata": {},
   "source": [
    "# <ins> Data Quality Check and Cleaning"
   ]
  },
  {
   "cell_type": "markdown",
   "metadata": {},
   "source": [
    "<a id= dataInspect ></a>\n",
    "## Read the Data"
   ]
  },
  {
   "cell_type": "code",
   "execution_count": 5,
   "metadata": {},
   "outputs": [],
   "source": [
    "#load the data into a Pandas dataframe\n",
    "train_features = load_file('C:/Users/user/Desktop/Data Science/DSDJ/Module 4 - Portfolio/train_features.csv')\n",
    "train_salaries = load_file('C:/Users/user/Desktop/Data Science/DSDJ/Module 4 - Portfolio/train_salaries.csv')\n",
    "test_features = load_file('C:/Users/user/Desktop/Data Science/DSDJ/Module 4 - Portfolio/test_features.csv')"
   ]
  },
  {
   "cell_type": "code",
   "execution_count": 18,
   "metadata": {},
   "outputs": [
    {
     "data": {
      "text/html": [
       "<div>\n",
       "<style scoped>\n",
       "    .dataframe tbody tr th:only-of-type {\n",
       "        vertical-align: middle;\n",
       "    }\n",
       "\n",
       "    .dataframe tbody tr th {\n",
       "        vertical-align: top;\n",
       "    }\n",
       "\n",
       "    .dataframe thead th {\n",
       "        text-align: right;\n",
       "    }\n",
       "</style>\n",
       "<table border=\"1\" class=\"dataframe\">\n",
       "  <thead>\n",
       "    <tr style=\"text-align: right;\">\n",
       "      <th></th>\n",
       "      <th>jobId</th>\n",
       "      <th>jobType</th>\n",
       "      <th>degree</th>\n",
       "      <th>major</th>\n",
       "      <th>industry</th>\n",
       "      <th>yearsExperience</th>\n",
       "      <th>milesFromMetropolis</th>\n",
       "    </tr>\n",
       "  </thead>\n",
       "  <tbody>\n",
       "    <tr>\n",
       "      <th>0</th>\n",
       "      <td>JOB1362684407687</td>\n",
       "      <td>CFO</td>\n",
       "      <td>MASTERS</td>\n",
       "      <td>MATH</td>\n",
       "      <td>HEALTH</td>\n",
       "      <td>10</td>\n",
       "      <td>83</td>\n",
       "    </tr>\n",
       "    <tr>\n",
       "      <th>1</th>\n",
       "      <td>JOB1362684407688</td>\n",
       "      <td>CEO</td>\n",
       "      <td>HIGH_SCHOOL</td>\n",
       "      <td>NONE</td>\n",
       "      <td>WEB</td>\n",
       "      <td>3</td>\n",
       "      <td>73</td>\n",
       "    </tr>\n",
       "    <tr>\n",
       "      <th>2</th>\n",
       "      <td>JOB1362684407689</td>\n",
       "      <td>VICE_PRESIDENT</td>\n",
       "      <td>DOCTORAL</td>\n",
       "      <td>PHYSICS</td>\n",
       "      <td>HEALTH</td>\n",
       "      <td>10</td>\n",
       "      <td>38</td>\n",
       "    </tr>\n",
       "    <tr>\n",
       "      <th>3</th>\n",
       "      <td>JOB1362684407690</td>\n",
       "      <td>MANAGER</td>\n",
       "      <td>DOCTORAL</td>\n",
       "      <td>CHEMISTRY</td>\n",
       "      <td>AUTO</td>\n",
       "      <td>8</td>\n",
       "      <td>17</td>\n",
       "    </tr>\n",
       "    <tr>\n",
       "      <th>4</th>\n",
       "      <td>JOB1362684407691</td>\n",
       "      <td>VICE_PRESIDENT</td>\n",
       "      <td>BACHELORS</td>\n",
       "      <td>PHYSICS</td>\n",
       "      <td>FINANCE</td>\n",
       "      <td>8</td>\n",
       "      <td>16</td>\n",
       "    </tr>\n",
       "    <tr>\n",
       "      <th>5</th>\n",
       "      <td>JOB1362684407692</td>\n",
       "      <td>MANAGER</td>\n",
       "      <td>DOCTORAL</td>\n",
       "      <td>COMPSCI</td>\n",
       "      <td>FINANCE</td>\n",
       "      <td>2</td>\n",
       "      <td>31</td>\n",
       "    </tr>\n",
       "    <tr>\n",
       "      <th>6</th>\n",
       "      <td>JOB1362684407693</td>\n",
       "      <td>CFO</td>\n",
       "      <td>NONE</td>\n",
       "      <td>NONE</td>\n",
       "      <td>HEALTH</td>\n",
       "      <td>23</td>\n",
       "      <td>24</td>\n",
       "    </tr>\n",
       "    <tr>\n",
       "      <th>7</th>\n",
       "      <td>JOB1362684407694</td>\n",
       "      <td>JUNIOR</td>\n",
       "      <td>BACHELORS</td>\n",
       "      <td>CHEMISTRY</td>\n",
       "      <td>EDUCATION</td>\n",
       "      <td>9</td>\n",
       "      <td>70</td>\n",
       "    </tr>\n",
       "    <tr>\n",
       "      <th>8</th>\n",
       "      <td>JOB1362684407695</td>\n",
       "      <td>JANITOR</td>\n",
       "      <td>HIGH_SCHOOL</td>\n",
       "      <td>NONE</td>\n",
       "      <td>EDUCATION</td>\n",
       "      <td>1</td>\n",
       "      <td>54</td>\n",
       "    </tr>\n",
       "    <tr>\n",
       "      <th>9</th>\n",
       "      <td>JOB1362684407696</td>\n",
       "      <td>VICE_PRESIDENT</td>\n",
       "      <td>BACHELORS</td>\n",
       "      <td>CHEMISTRY</td>\n",
       "      <td>AUTO</td>\n",
       "      <td>17</td>\n",
       "      <td>68</td>\n",
       "    </tr>\n",
       "  </tbody>\n",
       "</table>\n",
       "</div>"
      ],
      "text/plain": [
       "              jobId         jobType       degree      major   industry  \\\n",
       "0  JOB1362684407687             CFO      MASTERS       MATH     HEALTH   \n",
       "1  JOB1362684407688             CEO  HIGH_SCHOOL       NONE        WEB   \n",
       "2  JOB1362684407689  VICE_PRESIDENT     DOCTORAL    PHYSICS     HEALTH   \n",
       "3  JOB1362684407690         MANAGER     DOCTORAL  CHEMISTRY       AUTO   \n",
       "4  JOB1362684407691  VICE_PRESIDENT    BACHELORS    PHYSICS    FINANCE   \n",
       "5  JOB1362684407692         MANAGER     DOCTORAL    COMPSCI    FINANCE   \n",
       "6  JOB1362684407693             CFO         NONE       NONE     HEALTH   \n",
       "7  JOB1362684407694          JUNIOR    BACHELORS  CHEMISTRY  EDUCATION   \n",
       "8  JOB1362684407695         JANITOR  HIGH_SCHOOL       NONE  EDUCATION   \n",
       "9  JOB1362684407696  VICE_PRESIDENT    BACHELORS  CHEMISTRY       AUTO   \n",
       "\n",
       "   yearsExperience  milesFromMetropolis  \n",
       "0               10                   83  \n",
       "1                3                   73  \n",
       "2               10                   38  \n",
       "3                8                   17  \n",
       "4                8                   16  \n",
       "5                2                   31  \n",
       "6               23                   24  \n",
       "7                9                   70  \n",
       "8                1                   54  \n",
       "9               17                   68  "
      ]
     },
     "execution_count": 18,
     "metadata": {},
     "output_type": "execute_result"
    }
   ],
   "source": [
    "train_features.head(10)"
   ]
  },
  {
   "cell_type": "markdown",
   "metadata": {},
   "source": [
    "- All the Features Seem Relevant to The Target Variable, Except Company Id Which Adds No Value ----> __Dropping Company Id Column__ "
   ]
  },
  {
   "cell_type": "code",
   "execution_count": 7,
   "metadata": {
    "scrolled": false
   },
   "outputs": [
    {
     "data": {
      "text/html": [
       "<div>\n",
       "<style scoped>\n",
       "    .dataframe tbody tr th:only-of-type {\n",
       "        vertical-align: middle;\n",
       "    }\n",
       "\n",
       "    .dataframe tbody tr th {\n",
       "        vertical-align: top;\n",
       "    }\n",
       "\n",
       "    .dataframe thead th {\n",
       "        text-align: right;\n",
       "    }\n",
       "</style>\n",
       "<table border=\"1\" class=\"dataframe\">\n",
       "  <thead>\n",
       "    <tr style=\"text-align: right;\">\n",
       "      <th></th>\n",
       "      <th>jobId</th>\n",
       "      <th>jobType</th>\n",
       "      <th>degree</th>\n",
       "      <th>major</th>\n",
       "      <th>industry</th>\n",
       "      <th>yearsExperience</th>\n",
       "      <th>milesFromMetropolis</th>\n",
       "    </tr>\n",
       "  </thead>\n",
       "  <tbody>\n",
       "    <tr>\n",
       "      <th>0</th>\n",
       "      <td>JOB1362684407687</td>\n",
       "      <td>CFO</td>\n",
       "      <td>MASTERS</td>\n",
       "      <td>MATH</td>\n",
       "      <td>HEALTH</td>\n",
       "      <td>10</td>\n",
       "      <td>83</td>\n",
       "    </tr>\n",
       "    <tr>\n",
       "      <th>1</th>\n",
       "      <td>JOB1362684407688</td>\n",
       "      <td>CEO</td>\n",
       "      <td>HIGH_SCHOOL</td>\n",
       "      <td>NONE</td>\n",
       "      <td>WEB</td>\n",
       "      <td>3</td>\n",
       "      <td>73</td>\n",
       "    </tr>\n",
       "    <tr>\n",
       "      <th>2</th>\n",
       "      <td>JOB1362684407689</td>\n",
       "      <td>VICE_PRESIDENT</td>\n",
       "      <td>DOCTORAL</td>\n",
       "      <td>PHYSICS</td>\n",
       "      <td>HEALTH</td>\n",
       "      <td>10</td>\n",
       "      <td>38</td>\n",
       "    </tr>\n",
       "    <tr>\n",
       "      <th>3</th>\n",
       "      <td>JOB1362684407690</td>\n",
       "      <td>MANAGER</td>\n",
       "      <td>DOCTORAL</td>\n",
       "      <td>CHEMISTRY</td>\n",
       "      <td>AUTO</td>\n",
       "      <td>8</td>\n",
       "      <td>17</td>\n",
       "    </tr>\n",
       "    <tr>\n",
       "      <th>4</th>\n",
       "      <td>JOB1362684407691</td>\n",
       "      <td>VICE_PRESIDENT</td>\n",
       "      <td>BACHELORS</td>\n",
       "      <td>PHYSICS</td>\n",
       "      <td>FINANCE</td>\n",
       "      <td>8</td>\n",
       "      <td>16</td>\n",
       "    </tr>\n",
       "    <tr>\n",
       "      <th>...</th>\n",
       "      <td>...</td>\n",
       "      <td>...</td>\n",
       "      <td>...</td>\n",
       "      <td>...</td>\n",
       "      <td>...</td>\n",
       "      <td>...</td>\n",
       "      <td>...</td>\n",
       "    </tr>\n",
       "    <tr>\n",
       "      <th>999995</th>\n",
       "      <td>JOB1362685407682</td>\n",
       "      <td>VICE_PRESIDENT</td>\n",
       "      <td>BACHELORS</td>\n",
       "      <td>CHEMISTRY</td>\n",
       "      <td>HEALTH</td>\n",
       "      <td>19</td>\n",
       "      <td>94</td>\n",
       "    </tr>\n",
       "    <tr>\n",
       "      <th>999996</th>\n",
       "      <td>JOB1362685407683</td>\n",
       "      <td>CTO</td>\n",
       "      <td>HIGH_SCHOOL</td>\n",
       "      <td>NONE</td>\n",
       "      <td>FINANCE</td>\n",
       "      <td>12</td>\n",
       "      <td>35</td>\n",
       "    </tr>\n",
       "    <tr>\n",
       "      <th>999997</th>\n",
       "      <td>JOB1362685407684</td>\n",
       "      <td>JUNIOR</td>\n",
       "      <td>HIGH_SCHOOL</td>\n",
       "      <td>NONE</td>\n",
       "      <td>EDUCATION</td>\n",
       "      <td>16</td>\n",
       "      <td>81</td>\n",
       "    </tr>\n",
       "    <tr>\n",
       "      <th>999998</th>\n",
       "      <td>JOB1362685407685</td>\n",
       "      <td>CFO</td>\n",
       "      <td>MASTERS</td>\n",
       "      <td>NONE</td>\n",
       "      <td>HEALTH</td>\n",
       "      <td>6</td>\n",
       "      <td>5</td>\n",
       "    </tr>\n",
       "    <tr>\n",
       "      <th>999999</th>\n",
       "      <td>JOB1362685407686</td>\n",
       "      <td>JUNIOR</td>\n",
       "      <td>BACHELORS</td>\n",
       "      <td>NONE</td>\n",
       "      <td>EDUCATION</td>\n",
       "      <td>20</td>\n",
       "      <td>11</td>\n",
       "    </tr>\n",
       "  </tbody>\n",
       "</table>\n",
       "<p>1000000 rows × 7 columns</p>\n",
       "</div>"
      ],
      "text/plain": [
       "                   jobId         jobType       degree      major   industry  \\\n",
       "0       JOB1362684407687             CFO      MASTERS       MATH     HEALTH   \n",
       "1       JOB1362684407688             CEO  HIGH_SCHOOL       NONE        WEB   \n",
       "2       JOB1362684407689  VICE_PRESIDENT     DOCTORAL    PHYSICS     HEALTH   \n",
       "3       JOB1362684407690         MANAGER     DOCTORAL  CHEMISTRY       AUTO   \n",
       "4       JOB1362684407691  VICE_PRESIDENT    BACHELORS    PHYSICS    FINANCE   \n",
       "...                  ...             ...          ...        ...        ...   \n",
       "999995  JOB1362685407682  VICE_PRESIDENT    BACHELORS  CHEMISTRY     HEALTH   \n",
       "999996  JOB1362685407683             CTO  HIGH_SCHOOL       NONE    FINANCE   \n",
       "999997  JOB1362685407684          JUNIOR  HIGH_SCHOOL       NONE  EDUCATION   \n",
       "999998  JOB1362685407685             CFO      MASTERS       NONE     HEALTH   \n",
       "999999  JOB1362685407686          JUNIOR    BACHELORS       NONE  EDUCATION   \n",
       "\n",
       "        yearsExperience  milesFromMetropolis  \n",
       "0                    10                   83  \n",
       "1                     3                   73  \n",
       "2                    10                   38  \n",
       "3                     8                   17  \n",
       "4                     8                   16  \n",
       "...                 ...                  ...  \n",
       "999995               19                   94  \n",
       "999996               12                   35  \n",
       "999997               16                   81  \n",
       "999998                6                    5  \n",
       "999999               20                   11  \n",
       "\n",
       "[1000000 rows x 7 columns]"
      ]
     },
     "execution_count": 7,
     "metadata": {},
     "output_type": "execute_result"
    }
   ],
   "source": [
    "train_features = train_features.drop('companyId',axis=1)\n",
    "train_features"
   ]
  },
  {
   "cell_type": "code",
   "execution_count": 8,
   "metadata": {
    "scrolled": true
   },
   "outputs": [
    {
     "data": {
      "text/html": [
       "<div>\n",
       "<style scoped>\n",
       "    .dataframe tbody tr th:only-of-type {\n",
       "        vertical-align: middle;\n",
       "    }\n",
       "\n",
       "    .dataframe tbody tr th {\n",
       "        vertical-align: top;\n",
       "    }\n",
       "\n",
       "    .dataframe thead th {\n",
       "        text-align: right;\n",
       "    }\n",
       "</style>\n",
       "<table border=\"1\" class=\"dataframe\">\n",
       "  <thead>\n",
       "    <tr style=\"text-align: right;\">\n",
       "      <th></th>\n",
       "      <th>jobId</th>\n",
       "      <th>salary</th>\n",
       "    </tr>\n",
       "  </thead>\n",
       "  <tbody>\n",
       "    <tr>\n",
       "      <th>0</th>\n",
       "      <td>JOB1362684407687</td>\n",
       "      <td>130</td>\n",
       "    </tr>\n",
       "    <tr>\n",
       "      <th>1</th>\n",
       "      <td>JOB1362684407688</td>\n",
       "      <td>101</td>\n",
       "    </tr>\n",
       "    <tr>\n",
       "      <th>2</th>\n",
       "      <td>JOB1362684407689</td>\n",
       "      <td>137</td>\n",
       "    </tr>\n",
       "    <tr>\n",
       "      <th>3</th>\n",
       "      <td>JOB1362684407690</td>\n",
       "      <td>142</td>\n",
       "    </tr>\n",
       "    <tr>\n",
       "      <th>4</th>\n",
       "      <td>JOB1362684407691</td>\n",
       "      <td>163</td>\n",
       "    </tr>\n",
       "    <tr>\n",
       "      <th>5</th>\n",
       "      <td>JOB1362684407692</td>\n",
       "      <td>113</td>\n",
       "    </tr>\n",
       "    <tr>\n",
       "      <th>6</th>\n",
       "      <td>JOB1362684407693</td>\n",
       "      <td>178</td>\n",
       "    </tr>\n",
       "    <tr>\n",
       "      <th>7</th>\n",
       "      <td>JOB1362684407694</td>\n",
       "      <td>73</td>\n",
       "    </tr>\n",
       "    <tr>\n",
       "      <th>8</th>\n",
       "      <td>JOB1362684407695</td>\n",
       "      <td>31</td>\n",
       "    </tr>\n",
       "    <tr>\n",
       "      <th>9</th>\n",
       "      <td>JOB1362684407696</td>\n",
       "      <td>104</td>\n",
       "    </tr>\n",
       "  </tbody>\n",
       "</table>\n",
       "</div>"
      ],
      "text/plain": [
       "              jobId  salary\n",
       "0  JOB1362684407687     130\n",
       "1  JOB1362684407688     101\n",
       "2  JOB1362684407689     137\n",
       "3  JOB1362684407690     142\n",
       "4  JOB1362684407691     163\n",
       "5  JOB1362684407692     113\n",
       "6  JOB1362684407693     178\n",
       "7  JOB1362684407694      73\n",
       "8  JOB1362684407695      31\n",
       "9  JOB1362684407696     104"
      ]
     },
     "execution_count": 8,
     "metadata": {},
     "output_type": "execute_result"
    }
   ],
   "source": [
    "train_salaries.head(10)"
   ]
  },
  {
   "cell_type": "code",
   "execution_count": 9,
   "metadata": {
    "scrolled": true
   },
   "outputs": [
    {
     "data": {
      "text/plain": [
       "jobId     False\n",
       "salary    False\n",
       "dtype: bool"
      ]
     },
     "execution_count": 9,
     "metadata": {},
     "output_type": "execute_result"
    }
   ],
   "source": [
    "train_features.isnull().any()\n",
    "train_salaries.isnull().any()"
   ]
  },
  {
   "cell_type": "markdown",
   "metadata": {},
   "source": [
    "- Train Data Doesnt Contain Any Null Values"
   ]
  },
  {
   "cell_type": "markdown",
   "metadata": {},
   "source": [
    "##  Merging the Features with The Target Variable(Salary)"
   ]
  },
  {
   "cell_type": "code",
   "execution_count": 10,
   "metadata": {},
   "outputs": [],
   "source": [
    "train = consolidate_data(train_features,train_salaries)"
   ]
  },
  {
   "cell_type": "markdown",
   "metadata": {},
   "source": [
    "<a id = Summery ></a>\n",
    "## Summery Statistics"
   ]
  },
  {
   "cell_type": "code",
   "execution_count": 11,
   "metadata": {},
   "outputs": [
    {
     "name": "stdout",
     "output_type": "stream",
     "text": [
      "\n",
      "\n",
      "\n",
      "******************************\n",
      "About the Data\n",
      "******************************\n",
      "Number of rows:: 1000000\n",
      "Number of columns:: 8\n",
      "\n",
      "\n",
      "Column Names:: ['jobId', 'jobType', 'degree', 'major', 'industry', 'yearsExperience', 'milesFromMetropolis', 'salary']\n",
      "\n",
      "\n",
      "Column Data Types::\n",
      " jobId                  object\n",
      "jobType                object\n",
      "degree                 object\n",
      "major                  object\n",
      "industry               object\n",
      "yearsExperience         int64\n",
      "milesFromMetropolis     int64\n",
      "salary                  int64\n",
      "dtype: object\n",
      "\n",
      "\n",
      "Columns with Missing Values:: []\n",
      "\n",
      "\n",
      "Number of rows with Missing Values:: 0\n",
      "\n",
      "\n",
      "Sample Indices with missing data:: []\n",
      "\n",
      "\n",
      "General Stats::\n",
      "<class 'pandas.core.frame.DataFrame'>\n",
      "Int64Index: 1000000 entries, 0 to 999999\n",
      "Data columns (total 8 columns):\n",
      " #   Column               Non-Null Count    Dtype \n",
      "---  ------               --------------    ----- \n",
      " 0   jobId                1000000 non-null  object\n",
      " 1   jobType              1000000 non-null  object\n",
      " 2   degree               1000000 non-null  object\n",
      " 3   major                1000000 non-null  object\n",
      " 4   industry             1000000 non-null  object\n",
      " 5   yearsExperience      1000000 non-null  int64 \n",
      " 6   milesFromMetropolis  1000000 non-null  int64 \n",
      " 7   salary               1000000 non-null  int64 \n",
      "dtypes: int64(3), object(5)\n",
      "memory usage: 68.7+ MB\n",
      "None\n",
      "\n",
      "\n",
      "Summery Stats(Numerical): \n",
      "       yearsExperience  milesFromMetropolis          salary\n",
      "count   1000000.000000       1000000.000000  1000000.000000\n",
      "mean         11.992386            49.529260      116.061818\n",
      "std           7.212391            28.877733       38.717936\n",
      "min           0.000000             0.000000        0.000000\n",
      "25%           6.000000            25.000000       88.000000\n",
      "50%          12.000000            50.000000      114.000000\n",
      "75%          18.000000            75.000000      141.000000\n",
      "max          24.000000            99.000000      301.000000\n",
      "\n",
      "\n",
      "Summery Stats(Objects): \n",
      "                       count   unique               top    freq\n",
      "jobId                1000000  1000000  JOB1362685065451       1\n",
      "jobType              1000000        8            SENIOR  125886\n",
      "degree               1000000        5       HIGH_SCHOOL  236976\n",
      "major                1000000        9              NONE  532355\n",
      "industry             1000000        7               WEB  143206\n",
      "yearsExperience      1000000       25                15   40312\n",
      "milesFromMetropolis  1000000      100                99   10180\n",
      "salary               1000000      280               108   10467\n",
      "\n",
      "\n",
      "Dataframe Sample Rows::\n"
     ]
    },
    {
     "data": {
      "text/html": [
       "<div>\n",
       "<style scoped>\n",
       "    .dataframe tbody tr th:only-of-type {\n",
       "        vertical-align: middle;\n",
       "    }\n",
       "\n",
       "    .dataframe tbody tr th {\n",
       "        vertical-align: top;\n",
       "    }\n",
       "\n",
       "    .dataframe thead th {\n",
       "        text-align: right;\n",
       "    }\n",
       "</style>\n",
       "<table border=\"1\" class=\"dataframe\">\n",
       "  <thead>\n",
       "    <tr style=\"text-align: right;\">\n",
       "      <th></th>\n",
       "      <th>jobId</th>\n",
       "      <th>jobType</th>\n",
       "      <th>degree</th>\n",
       "      <th>major</th>\n",
       "      <th>industry</th>\n",
       "      <th>yearsExperience</th>\n",
       "      <th>milesFromMetropolis</th>\n",
       "      <th>salary</th>\n",
       "    </tr>\n",
       "  </thead>\n",
       "  <tbody>\n",
       "    <tr>\n",
       "      <th>0</th>\n",
       "      <td>JOB1362684407687</td>\n",
       "      <td>CFO</td>\n",
       "      <td>MASTERS</td>\n",
       "      <td>MATH</td>\n",
       "      <td>HEALTH</td>\n",
       "      <td>10</td>\n",
       "      <td>83</td>\n",
       "      <td>130</td>\n",
       "    </tr>\n",
       "    <tr>\n",
       "      <th>1</th>\n",
       "      <td>JOB1362684407688</td>\n",
       "      <td>CEO</td>\n",
       "      <td>HIGH_SCHOOL</td>\n",
       "      <td>NONE</td>\n",
       "      <td>WEB</td>\n",
       "      <td>3</td>\n",
       "      <td>73</td>\n",
       "      <td>101</td>\n",
       "    </tr>\n",
       "    <tr>\n",
       "      <th>2</th>\n",
       "      <td>JOB1362684407689</td>\n",
       "      <td>VICE_PRESIDENT</td>\n",
       "      <td>DOCTORAL</td>\n",
       "      <td>PHYSICS</td>\n",
       "      <td>HEALTH</td>\n",
       "      <td>10</td>\n",
       "      <td>38</td>\n",
       "      <td>137</td>\n",
       "    </tr>\n",
       "    <tr>\n",
       "      <th>3</th>\n",
       "      <td>JOB1362684407690</td>\n",
       "      <td>MANAGER</td>\n",
       "      <td>DOCTORAL</td>\n",
       "      <td>CHEMISTRY</td>\n",
       "      <td>AUTO</td>\n",
       "      <td>8</td>\n",
       "      <td>17</td>\n",
       "      <td>142</td>\n",
       "    </tr>\n",
       "    <tr>\n",
       "      <th>4</th>\n",
       "      <td>JOB1362684407691</td>\n",
       "      <td>VICE_PRESIDENT</td>\n",
       "      <td>BACHELORS</td>\n",
       "      <td>PHYSICS</td>\n",
       "      <td>FINANCE</td>\n",
       "      <td>8</td>\n",
       "      <td>16</td>\n",
       "      <td>163</td>\n",
       "    </tr>\n",
       "  </tbody>\n",
       "</table>\n",
       "</div>"
      ],
      "text/plain": [
       "              jobId         jobType       degree      major industry  \\\n",
       "0  JOB1362684407687             CFO      MASTERS       MATH   HEALTH   \n",
       "1  JOB1362684407688             CEO  HIGH_SCHOOL       NONE      WEB   \n",
       "2  JOB1362684407689  VICE_PRESIDENT     DOCTORAL    PHYSICS   HEALTH   \n",
       "3  JOB1362684407690         MANAGER     DOCTORAL  CHEMISTRY     AUTO   \n",
       "4  JOB1362684407691  VICE_PRESIDENT    BACHELORS    PHYSICS  FINANCE   \n",
       "\n",
       "   yearsExperience  milesFromMetropolis  salary  \n",
       "0               10                   83     130  \n",
       "1                3                   73     101  \n",
       "2               10                   38     137  \n",
       "3                8                   17     142  \n",
       "4                8                   16     163  "
      ]
     },
     "metadata": {},
     "output_type": "display_data"
    }
   ],
   "source": [
    "describe_dataframe(train)"
   ]
  },
  {
   "cell_type": "markdown",
   "metadata": {},
   "source": [
    "- Train Data Contain __Salaries that Are Equal to Zero__ ----> __Further Inspection Required__"
   ]
  },
  {
   "cell_type": "code",
   "execution_count": 12,
   "metadata": {
    "scrolled": true
   },
   "outputs": [
    {
     "data": {
      "text/html": [
       "<div>\n",
       "<style scoped>\n",
       "    .dataframe tbody tr th:only-of-type {\n",
       "        vertical-align: middle;\n",
       "    }\n",
       "\n",
       "    .dataframe tbody tr th {\n",
       "        vertical-align: top;\n",
       "    }\n",
       "\n",
       "    .dataframe thead th {\n",
       "        text-align: right;\n",
       "    }\n",
       "</style>\n",
       "<table border=\"1\" class=\"dataframe\">\n",
       "  <thead>\n",
       "    <tr style=\"text-align: right;\">\n",
       "      <th></th>\n",
       "      <th>jobId</th>\n",
       "      <th>jobType</th>\n",
       "      <th>degree</th>\n",
       "      <th>major</th>\n",
       "      <th>industry</th>\n",
       "      <th>yearsExperience</th>\n",
       "      <th>milesFromMetropolis</th>\n",
       "      <th>salary</th>\n",
       "    </tr>\n",
       "  </thead>\n",
       "  <tbody>\n",
       "    <tr>\n",
       "      <th>30559</th>\n",
       "      <td>JOB1362684438246</td>\n",
       "      <td>JUNIOR</td>\n",
       "      <td>DOCTORAL</td>\n",
       "      <td>MATH</td>\n",
       "      <td>AUTO</td>\n",
       "      <td>11</td>\n",
       "      <td>7</td>\n",
       "      <td>0</td>\n",
       "    </tr>\n",
       "    <tr>\n",
       "      <th>495984</th>\n",
       "      <td>JOB1362684903671</td>\n",
       "      <td>JUNIOR</td>\n",
       "      <td>NONE</td>\n",
       "      <td>NONE</td>\n",
       "      <td>OIL</td>\n",
       "      <td>1</td>\n",
       "      <td>25</td>\n",
       "      <td>0</td>\n",
       "    </tr>\n",
       "    <tr>\n",
       "      <th>652076</th>\n",
       "      <td>JOB1362685059763</td>\n",
       "      <td>CTO</td>\n",
       "      <td>HIGH_SCHOOL</td>\n",
       "      <td>NONE</td>\n",
       "      <td>AUTO</td>\n",
       "      <td>6</td>\n",
       "      <td>60</td>\n",
       "      <td>0</td>\n",
       "    </tr>\n",
       "    <tr>\n",
       "      <th>816129</th>\n",
       "      <td>JOB1362685223816</td>\n",
       "      <td>MANAGER</td>\n",
       "      <td>DOCTORAL</td>\n",
       "      <td>ENGINEERING</td>\n",
       "      <td>FINANCE</td>\n",
       "      <td>18</td>\n",
       "      <td>6</td>\n",
       "      <td>0</td>\n",
       "    </tr>\n",
       "    <tr>\n",
       "      <th>828156</th>\n",
       "      <td>JOB1362685235843</td>\n",
       "      <td>VICE_PRESIDENT</td>\n",
       "      <td>MASTERS</td>\n",
       "      <td>ENGINEERING</td>\n",
       "      <td>WEB</td>\n",
       "      <td>3</td>\n",
       "      <td>29</td>\n",
       "      <td>0</td>\n",
       "    </tr>\n",
       "  </tbody>\n",
       "</table>\n",
       "</div>"
      ],
      "text/plain": [
       "                   jobId         jobType       degree        major industry  \\\n",
       "30559   JOB1362684438246          JUNIOR     DOCTORAL         MATH     AUTO   \n",
       "495984  JOB1362684903671          JUNIOR         NONE         NONE      OIL   \n",
       "652076  JOB1362685059763             CTO  HIGH_SCHOOL         NONE     AUTO   \n",
       "816129  JOB1362685223816         MANAGER     DOCTORAL  ENGINEERING  FINANCE   \n",
       "828156  JOB1362685235843  VICE_PRESIDENT      MASTERS  ENGINEERING      WEB   \n",
       "\n",
       "        yearsExperience  milesFromMetropolis  salary  \n",
       "30559                11                    7       0  \n",
       "495984                1                   25       0  \n",
       "652076                6                   60       0  \n",
       "816129               18                    6       0  \n",
       "828156                3                   29       0  "
      ]
     },
     "execution_count": 12,
     "metadata": {},
     "output_type": "execute_result"
    }
   ],
   "source": [
    "zero_salary_employees = train[train['salary'] == 0]\n",
    "zero_salary_employees"
   ]
  },
  {
   "cell_type": "markdown",
   "metadata": {},
   "source": [
    "- Some Jobs Belong to Educated, High Ranking Employees with A Lot of Years of Experience.\n",
    "There's Reason to Believe that __The Salaries Were Generated Due to Corrupted Data__ \n",
    "- In Addition, There Are only 5 Employees with 0 Salary, Dropping Them Won't Affect the Data Set"
   ]
  },
  {
   "cell_type": "markdown",
   "metadata": {},
   "source": [
    "- __Dropping Data with Salary Equal to Zero__"
   ]
  },
  {
   "cell_type": "code",
   "execution_count": 13,
   "metadata": {
    "scrolled": false
   },
   "outputs": [],
   "source": [
    "train = train[train['salary'] > 0]"
   ]
  },
  {
   "cell_type": "code",
   "execution_count": 14,
   "metadata": {},
   "outputs": [
    {
     "data": {
      "text/plain": [
       "0"
      ]
     },
     "execution_count": 14,
     "metadata": {},
     "output_type": "execute_result"
    }
   ],
   "source": [
    "train['jobId'].duplicated().sum()"
   ]
  },
  {
   "cell_type": "markdown",
   "metadata": {},
   "source": [
    "- Train Data Doesn't Contain Any Duplicated Values"
   ]
  },
  {
   "cell_type": "markdown",
   "metadata": {},
   "source": [
    "# <ins> Exploratory Data Analysis"
   ]
  },
  {
   "cell_type": "markdown",
   "metadata": {},
   "source": [
    "<a id = salaryInspect ></a>\n",
    "##  EDA 1 - Target Variable(Salary) Inspection"
   ]
  },
  {
   "cell_type": "code",
   "execution_count": 15,
   "metadata": {},
   "outputs": [
    {
     "data": {
      "text/plain": [
       "count    999995.000000\n",
       "mean        116.062398\n",
       "std          38.717163\n",
       "min          17.000000\n",
       "25%          88.000000\n",
       "50%         114.000000\n",
       "75%         141.000000\n",
       "max         301.000000\n",
       "Name: salary, dtype: float64"
      ]
     },
     "execution_count": 15,
     "metadata": {},
     "output_type": "execute_result"
    }
   ],
   "source": [
    "train.salary.describe()"
   ]
  },
  {
   "cell_type": "markdown",
   "metadata": {},
   "source": [
    "- Salaries Ranges Between 17 to 301\n",
    "- The Mean Is 116 and The Median Is 114,meaning the Data Most Likely Isn't Skewed\n",
    "- Most Salaries Are Between 88 to 141 \n",
    "- Considering the Overall Range It Means that __There Are a Few Extreme Outliers__ ----> __Further Inspection Required__\n",
    "    "
   ]
  },
  {
   "cell_type": "code",
   "execution_count": 16,
   "metadata": {},
   "outputs": [
    {
     "data": {
      "image/png": "[encoded data removed]",
      "text/plain": [
       "<Figure size 432x288 with 1 Axes>"
      ]
     },
     "metadata": {
      "needs_background": "light"
     },
     "output_type": "display_data"
    }
   ],
   "source": [
    "salary_dist = train['salary'].plot.hist(bins=30)\n",
    "plt.xlabel('Salary')\n",
    "plt.ylabel('Count')\n",
    "plt.title('Salary Distribution')\n",
    "plt.legend(loc = 'best')\n",
    "plt.show()"
   ]
  },
  {
   "cell_type": "markdown",
   "metadata": {},
   "source": [
    "- The __Data Looks Symetrical__, Visually There's No Reason to Manipulate The Data "
   ]
  },
  {
   "cell_type": "markdown",
   "metadata": {},
   "source": [
    "<a id = outliersDetection></a>\n",
    "### IQR rule to identify potential outliers"
   ]
  },
  {
   "cell_type": "code",
   "execution_count": 172,
   "metadata": {
    "scrolled": true
   },
   "outputs": [
    {
     "name": "stdout",
     "output_type": "stream",
     "text": [
      "The Upper and Lower Bounds for Suspected Outliers Are 220.5 and 8.5.\n"
     ]
    },
    {
     "data": {
      "image/png": "[encoded data removed]",
      "text/plain": [
       "<Figure size 432x288 with 1 Axes>"
      ]
     },
     "metadata": {
      "needs_background": "light"
     },
     "output_type": "display_data"
    }
   ],
   "source": [
    "stat = train.salary.describe()\n",
    "IQR = stat['75%'] - stat['25%']\n",
    "upper = stat['75%'] + 1.5 * IQR\n",
    "lower = stat['25%'] - 1.5 * IQR\n",
    "if lower < 0:\n",
    "    lower = 0\n",
    "    \n",
    "sns.boxplot(train.salary)\n",
    "print('The Upper and Lower Bounds for Suspected Outliers Are {} and {}.'.format(upper, lower))"
   ]
  },
  {
   "cell_type": "markdown",
   "metadata": {},
   "source": [
    "<ins> __Checking for Corrupted Data for The Outliers__\n",
    "- Checking for Any Logical Errors About High Payed Employees(salary Above 220.5)"
   ]
  },
  {
   "cell_type": "code",
   "execution_count": 173,
   "metadata": {
    "scrolled": false
   },
   "outputs": [
    {
     "data": {
      "text/html": [
       "<div>\n",
       "<style scoped>\n",
       "    .dataframe tbody tr th:only-of-type {\n",
       "        vertical-align: middle;\n",
       "    }\n",
       "\n",
       "    .dataframe tbody tr th {\n",
       "        vertical-align: top;\n",
       "    }\n",
       "\n",
       "    .dataframe thead th {\n",
       "        text-align: right;\n",
       "    }\n",
       "</style>\n",
       "<table border=\"1\" class=\"dataframe\">\n",
       "  <thead>\n",
       "    <tr style=\"text-align: right;\">\n",
       "      <th></th>\n",
       "      <th>jobId</th>\n",
       "      <th>jobType</th>\n",
       "      <th>degree</th>\n",
       "      <th>major</th>\n",
       "      <th>industry</th>\n",
       "      <th>yearsExperience</th>\n",
       "      <th>milesFromMetropolis</th>\n",
       "      <th>salary</th>\n",
       "    </tr>\n",
       "  </thead>\n",
       "  <tbody>\n",
       "    <tr>\n",
       "      <th>266</th>\n",
       "      <td>JOB1362684407953</td>\n",
       "      <td>CEO</td>\n",
       "      <td>MASTERS</td>\n",
       "      <td>BIOLOGY</td>\n",
       "      <td>OIL</td>\n",
       "      <td>23</td>\n",
       "      <td>60</td>\n",
       "      <td>223</td>\n",
       "    </tr>\n",
       "    <tr>\n",
       "      <th>362</th>\n",
       "      <td>JOB1362684408049</td>\n",
       "      <td>CTO</td>\n",
       "      <td>MASTERS</td>\n",
       "      <td>NONE</td>\n",
       "      <td>HEALTH</td>\n",
       "      <td>24</td>\n",
       "      <td>3</td>\n",
       "      <td>223</td>\n",
       "    </tr>\n",
       "    <tr>\n",
       "      <th>560</th>\n",
       "      <td>JOB1362684408247</td>\n",
       "      <td>CEO</td>\n",
       "      <td>MASTERS</td>\n",
       "      <td>BIOLOGY</td>\n",
       "      <td>WEB</td>\n",
       "      <td>22</td>\n",
       "      <td>7</td>\n",
       "      <td>248</td>\n",
       "    </tr>\n",
       "    <tr>\n",
       "      <th>670</th>\n",
       "      <td>JOB1362684408357</td>\n",
       "      <td>CEO</td>\n",
       "      <td>MASTERS</td>\n",
       "      <td>MATH</td>\n",
       "      <td>AUTO</td>\n",
       "      <td>23</td>\n",
       "      <td>9</td>\n",
       "      <td>240</td>\n",
       "    </tr>\n",
       "    <tr>\n",
       "      <th>719</th>\n",
       "      <td>JOB1362684408406</td>\n",
       "      <td>VICE_PRESIDENT</td>\n",
       "      <td>DOCTORAL</td>\n",
       "      <td>BIOLOGY</td>\n",
       "      <td>OIL</td>\n",
       "      <td>21</td>\n",
       "      <td>14</td>\n",
       "      <td>225</td>\n",
       "    </tr>\n",
       "    <tr>\n",
       "      <th>...</th>\n",
       "      <td>...</td>\n",
       "      <td>...</td>\n",
       "      <td>...</td>\n",
       "      <td>...</td>\n",
       "      <td>...</td>\n",
       "      <td>...</td>\n",
       "      <td>...</td>\n",
       "      <td>...</td>\n",
       "    </tr>\n",
       "    <tr>\n",
       "      <th>998516</th>\n",
       "      <td>JOB1362685406203</td>\n",
       "      <td>CFO</td>\n",
       "      <td>MASTERS</td>\n",
       "      <td>ENGINEERING</td>\n",
       "      <td>WEB</td>\n",
       "      <td>14</td>\n",
       "      <td>46</td>\n",
       "      <td>227</td>\n",
       "    </tr>\n",
       "    <tr>\n",
       "      <th>999249</th>\n",
       "      <td>JOB1362685406936</td>\n",
       "      <td>CEO</td>\n",
       "      <td>NONE</td>\n",
       "      <td>NONE</td>\n",
       "      <td>OIL</td>\n",
       "      <td>17</td>\n",
       "      <td>10</td>\n",
       "      <td>223</td>\n",
       "    </tr>\n",
       "    <tr>\n",
       "      <th>999280</th>\n",
       "      <td>JOB1362685406967</td>\n",
       "      <td>CFO</td>\n",
       "      <td>BACHELORS</td>\n",
       "      <td>BUSINESS</td>\n",
       "      <td>SERVICE</td>\n",
       "      <td>21</td>\n",
       "      <td>0</td>\n",
       "      <td>228</td>\n",
       "    </tr>\n",
       "    <tr>\n",
       "      <th>999670</th>\n",
       "      <td>JOB1362685407357</td>\n",
       "      <td>CEO</td>\n",
       "      <td>DOCTORAL</td>\n",
       "      <td>LITERATURE</td>\n",
       "      <td>SERVICE</td>\n",
       "      <td>24</td>\n",
       "      <td>14</td>\n",
       "      <td>233</td>\n",
       "    </tr>\n",
       "    <tr>\n",
       "      <th>999893</th>\n",
       "      <td>JOB1362685407580</td>\n",
       "      <td>CEO</td>\n",
       "      <td>DOCTORAL</td>\n",
       "      <td>ENGINEERING</td>\n",
       "      <td>FINANCE</td>\n",
       "      <td>17</td>\n",
       "      <td>33</td>\n",
       "      <td>237</td>\n",
       "    </tr>\n",
       "  </tbody>\n",
       "</table>\n",
       "<p>7117 rows × 8 columns</p>\n",
       "</div>"
      ],
      "text/plain": [
       "                   jobId         jobType     degree        major industry  \\\n",
       "266     JOB1362684407953             CEO    MASTERS      BIOLOGY      OIL   \n",
       "362     JOB1362684408049             CTO    MASTERS         NONE   HEALTH   \n",
       "560     JOB1362684408247             CEO    MASTERS      BIOLOGY      WEB   \n",
       "670     JOB1362684408357             CEO    MASTERS         MATH     AUTO   \n",
       "719     JOB1362684408406  VICE_PRESIDENT   DOCTORAL      BIOLOGY      OIL   \n",
       "...                  ...             ...        ...          ...      ...   \n",
       "998516  JOB1362685406203             CFO    MASTERS  ENGINEERING      WEB   \n",
       "999249  JOB1362685406936             CEO       NONE         NONE      OIL   \n",
       "999280  JOB1362685406967             CFO  BACHELORS     BUSINESS  SERVICE   \n",
       "999670  JOB1362685407357             CEO   DOCTORAL   LITERATURE  SERVICE   \n",
       "999893  JOB1362685407580             CEO   DOCTORAL  ENGINEERING  FINANCE   \n",
       "\n",
       "        yearsExperience  milesFromMetropolis  salary  \n",
       "266                  23                   60     223  \n",
       "362                  24                    3     223  \n",
       "560                  22                    7     248  \n",
       "670                  23                    9     240  \n",
       "719                  21                   14     225  \n",
       "...                 ...                  ...     ...  \n",
       "998516               14                   46     227  \n",
       "999249               17                   10     223  \n",
       "999280               21                    0     228  \n",
       "999670               24                   14     233  \n",
       "999893               17                   33     237  \n",
       "\n",
       "[7117 rows x 8 columns]"
      ]
     },
     "execution_count": 173,
     "metadata": {},
     "output_type": "execute_result"
    }
   ],
   "source": [
    "high_salary_outliers = train[train['salary'] > 220.5]\n",
    "high_salary_outliers"
   ]
  },
  {
   "cell_type": "markdown",
   "metadata": {},
   "source": [
    "- There Are About 7000 Employees with High Paying Jobs(Salary Above 220.5)"
   ]
  },
  {
   "cell_type": "code",
   "execution_count": 174,
   "metadata": {},
   "outputs": [],
   "source": [
    "high_salary_outliers = high_salary_outliers.set_index('salary').sort_values('salary',ascending = False)"
   ]
  },
  {
   "cell_type": "code",
   "execution_count": 175,
   "metadata": {
    "scrolled": true
   },
   "outputs": [
    {
     "data": {
      "text/html": [
       "<div>\n",
       "<style scoped>\n",
       "    .dataframe tbody tr th:only-of-type {\n",
       "        vertical-align: middle;\n",
       "    }\n",
       "\n",
       "    .dataframe tbody tr th {\n",
       "        vertical-align: top;\n",
       "    }\n",
       "\n",
       "    .dataframe thead tr th {\n",
       "        text-align: left;\n",
       "    }\n",
       "\n",
       "    .dataframe thead tr:last-of-type th {\n",
       "        text-align: right;\n",
       "    }\n",
       "</style>\n",
       "<table border=\"1\" class=\"dataframe\">\n",
       "  <thead>\n",
       "    <tr>\n",
       "      <th></th>\n",
       "      <th colspan=\"8\" halign=\"left\">yearsExperience</th>\n",
       "      <th colspan=\"8\" halign=\"left\">milesFromMetropolis</th>\n",
       "    </tr>\n",
       "    <tr>\n",
       "      <th></th>\n",
       "      <th>count</th>\n",
       "      <th>mean</th>\n",
       "      <th>std</th>\n",
       "      <th>min</th>\n",
       "      <th>25%</th>\n",
       "      <th>50%</th>\n",
       "      <th>75%</th>\n",
       "      <th>max</th>\n",
       "      <th>count</th>\n",
       "      <th>mean</th>\n",
       "      <th>std</th>\n",
       "      <th>min</th>\n",
       "      <th>25%</th>\n",
       "      <th>50%</th>\n",
       "      <th>75%</th>\n",
       "      <th>max</th>\n",
       "    </tr>\n",
       "    <tr>\n",
       "      <th>jobType</th>\n",
       "      <th></th>\n",
       "      <th></th>\n",
       "      <th></th>\n",
       "      <th></th>\n",
       "      <th></th>\n",
       "      <th></th>\n",
       "      <th></th>\n",
       "      <th></th>\n",
       "      <th></th>\n",
       "      <th></th>\n",
       "      <th></th>\n",
       "      <th></th>\n",
       "      <th></th>\n",
       "      <th></th>\n",
       "      <th></th>\n",
       "      <th></th>\n",
       "    </tr>\n",
       "  </thead>\n",
       "  <tbody>\n",
       "    <tr>\n",
       "      <th>CEO</th>\n",
       "      <td>3227.0</td>\n",
       "      <td>19.475984</td>\n",
       "      <td>4.171720</td>\n",
       "      <td>0.0</td>\n",
       "      <td>17.00</td>\n",
       "      <td>21.0</td>\n",
       "      <td>23.0</td>\n",
       "      <td>24.0</td>\n",
       "      <td>3227.0</td>\n",
       "      <td>23.017354</td>\n",
       "      <td>19.403017</td>\n",
       "      <td>0.0</td>\n",
       "      <td>8.0</td>\n",
       "      <td>18.0</td>\n",
       "      <td>34.0</td>\n",
       "      <td>98.0</td>\n",
       "    </tr>\n",
       "    <tr>\n",
       "      <th>CFO</th>\n",
       "      <td>1496.0</td>\n",
       "      <td>20.348930</td>\n",
       "      <td>3.679270</td>\n",
       "      <td>2.0</td>\n",
       "      <td>19.00</td>\n",
       "      <td>21.0</td>\n",
       "      <td>23.0</td>\n",
       "      <td>24.0</td>\n",
       "      <td>1496.0</td>\n",
       "      <td>19.959893</td>\n",
       "      <td>17.268867</td>\n",
       "      <td>0.0</td>\n",
       "      <td>6.0</td>\n",
       "      <td>15.5</td>\n",
       "      <td>29.0</td>\n",
       "      <td>88.0</td>\n",
       "    </tr>\n",
       "    <tr>\n",
       "      <th>CTO</th>\n",
       "      <td>1488.0</td>\n",
       "      <td>20.129704</td>\n",
       "      <td>3.695357</td>\n",
       "      <td>5.0</td>\n",
       "      <td>18.00</td>\n",
       "      <td>21.0</td>\n",
       "      <td>23.0</td>\n",
       "      <td>24.0</td>\n",
       "      <td>1488.0</td>\n",
       "      <td>20.081989</td>\n",
       "      <td>17.737153</td>\n",
       "      <td>0.0</td>\n",
       "      <td>6.0</td>\n",
       "      <td>15.0</td>\n",
       "      <td>29.0</td>\n",
       "      <td>95.0</td>\n",
       "    </tr>\n",
       "    <tr>\n",
       "      <th>JUNIOR</th>\n",
       "      <td>20.0</td>\n",
       "      <td>22.750000</td>\n",
       "      <td>1.743409</td>\n",
       "      <td>18.0</td>\n",
       "      <td>22.00</td>\n",
       "      <td>23.5</td>\n",
       "      <td>24.0</td>\n",
       "      <td>24.0</td>\n",
       "      <td>20.0</td>\n",
       "      <td>8.950000</td>\n",
       "      <td>9.949742</td>\n",
       "      <td>0.0</td>\n",
       "      <td>2.0</td>\n",
       "      <td>3.5</td>\n",
       "      <td>13.5</td>\n",
       "      <td>29.0</td>\n",
       "    </tr>\n",
       "    <tr>\n",
       "      <th>MANAGER</th>\n",
       "      <td>217.0</td>\n",
       "      <td>21.364055</td>\n",
       "      <td>2.575022</td>\n",
       "      <td>14.0</td>\n",
       "      <td>20.00</td>\n",
       "      <td>22.0</td>\n",
       "      <td>24.0</td>\n",
       "      <td>24.0</td>\n",
       "      <td>217.0</td>\n",
       "      <td>14.000000</td>\n",
       "      <td>11.736300</td>\n",
       "      <td>0.0</td>\n",
       "      <td>5.0</td>\n",
       "      <td>11.0</td>\n",
       "      <td>20.0</td>\n",
       "      <td>51.0</td>\n",
       "    </tr>\n",
       "    <tr>\n",
       "      <th>SENIOR</th>\n",
       "      <td>66.0</td>\n",
       "      <td>22.257576</td>\n",
       "      <td>1.791524</td>\n",
       "      <td>16.0</td>\n",
       "      <td>21.25</td>\n",
       "      <td>23.0</td>\n",
       "      <td>24.0</td>\n",
       "      <td>24.0</td>\n",
       "      <td>66.0</td>\n",
       "      <td>10.651515</td>\n",
       "      <td>10.544401</td>\n",
       "      <td>0.0</td>\n",
       "      <td>3.0</td>\n",
       "      <td>7.5</td>\n",
       "      <td>15.0</td>\n",
       "      <td>41.0</td>\n",
       "    </tr>\n",
       "    <tr>\n",
       "      <th>VICE_PRESIDENT</th>\n",
       "      <td>603.0</td>\n",
       "      <td>20.842454</td>\n",
       "      <td>3.064650</td>\n",
       "      <td>9.0</td>\n",
       "      <td>19.00</td>\n",
       "      <td>22.0</td>\n",
       "      <td>23.0</td>\n",
       "      <td>24.0</td>\n",
       "      <td>603.0</td>\n",
       "      <td>16.925373</td>\n",
       "      <td>14.145638</td>\n",
       "      <td>0.0</td>\n",
       "      <td>5.0</td>\n",
       "      <td>14.0</td>\n",
       "      <td>24.5</td>\n",
       "      <td>93.0</td>\n",
       "    </tr>\n",
       "  </tbody>\n",
       "</table>\n",
       "</div>"
      ],
      "text/plain": [
       "               yearsExperience                                                \\\n",
       "                         count       mean       std   min    25%   50%   75%   \n",
       "jobType                                                                        \n",
       "CEO                     3227.0  19.475984  4.171720   0.0  17.00  21.0  23.0   \n",
       "CFO                     1496.0  20.348930  3.679270   2.0  19.00  21.0  23.0   \n",
       "CTO                     1488.0  20.129704  3.695357   5.0  18.00  21.0  23.0   \n",
       "JUNIOR                    20.0  22.750000  1.743409  18.0  22.00  23.5  24.0   \n",
       "MANAGER                  217.0  21.364055  2.575022  14.0  20.00  22.0  24.0   \n",
       "SENIOR                    66.0  22.257576  1.791524  16.0  21.25  23.0  24.0   \n",
       "VICE_PRESIDENT           603.0  20.842454  3.064650   9.0  19.00  22.0  23.0   \n",
       "\n",
       "                     milesFromMetropolis                                  \\\n",
       "                 max               count       mean        std  min  25%   \n",
       "jobType                                                                    \n",
       "CEO             24.0              3227.0  23.017354  19.403017  0.0  8.0   \n",
       "CFO             24.0              1496.0  19.959893  17.268867  0.0  6.0   \n",
       "CTO             24.0              1488.0  20.081989  17.737153  0.0  6.0   \n",
       "JUNIOR          24.0                20.0   8.950000   9.949742  0.0  2.0   \n",
       "MANAGER         24.0               217.0  14.000000  11.736300  0.0  5.0   \n",
       "SENIOR          24.0                66.0  10.651515  10.544401  0.0  3.0   \n",
       "VICE_PRESIDENT  24.0               603.0  16.925373  14.145638  0.0  5.0   \n",
       "\n",
       "                                  \n",
       "                 50%   75%   max  \n",
       "jobType                           \n",
       "CEO             18.0  34.0  98.0  \n",
       "CFO             15.5  29.0  88.0  \n",
       "CTO             15.0  29.0  95.0  \n",
       "JUNIOR           3.5  13.5  29.0  \n",
       "MANAGER         11.0  20.0  51.0  \n",
       "SENIOR           7.5  15.0  41.0  \n",
       "VICE_PRESIDENT  14.0  24.5  93.0  "
      ]
     },
     "execution_count": 175,
     "metadata": {},
     "output_type": "execute_result"
    }
   ],
   "source": [
    "high_salary_outliers.groupby('jobType').describe()"
   ]
  },
  {
   "cell_type": "code",
   "execution_count": 176,
   "metadata": {},
   "outputs": [
    {
     "data": {
      "text/html": [
       "<div>\n",
       "<style scoped>\n",
       "    .dataframe tbody tr th:only-of-type {\n",
       "        vertical-align: middle;\n",
       "    }\n",
       "\n",
       "    .dataframe tbody tr th {\n",
       "        vertical-align: top;\n",
       "    }\n",
       "\n",
       "    .dataframe thead th {\n",
       "        text-align: right;\n",
       "    }\n",
       "</style>\n",
       "<table border=\"1\" class=\"dataframe\">\n",
       "  <thead>\n",
       "    <tr style=\"text-align: right;\">\n",
       "      <th></th>\n",
       "      <th>yearsExperience</th>\n",
       "      <th>milesFromMetropolis</th>\n",
       "    </tr>\n",
       "  </thead>\n",
       "  <tbody>\n",
       "    <tr>\n",
       "      <th>count</th>\n",
       "      <td>7117.000000</td>\n",
       "      <td>7117.000000</td>\n",
       "    </tr>\n",
       "    <tr>\n",
       "      <th>mean</th>\n",
       "      <td>20.004496</td>\n",
       "      <td>20.815653</td>\n",
       "    </tr>\n",
       "    <tr>\n",
       "      <th>std</th>\n",
       "      <td>3.867752</td>\n",
       "      <td>18.110057</td>\n",
       "    </tr>\n",
       "    <tr>\n",
       "      <th>min</th>\n",
       "      <td>0.000000</td>\n",
       "      <td>0.000000</td>\n",
       "    </tr>\n",
       "    <tr>\n",
       "      <th>25%</th>\n",
       "      <td>18.000000</td>\n",
       "      <td>7.000000</td>\n",
       "    </tr>\n",
       "    <tr>\n",
       "      <th>50%</th>\n",
       "      <td>21.000000</td>\n",
       "      <td>16.000000</td>\n",
       "    </tr>\n",
       "    <tr>\n",
       "      <th>75%</th>\n",
       "      <td>23.000000</td>\n",
       "      <td>30.000000</td>\n",
       "    </tr>\n",
       "    <tr>\n",
       "      <th>max</th>\n",
       "      <td>24.000000</td>\n",
       "      <td>98.000000</td>\n",
       "    </tr>\n",
       "  </tbody>\n",
       "</table>\n",
       "</div>"
      ],
      "text/plain": [
       "       yearsExperience  milesFromMetropolis\n",
       "count      7117.000000          7117.000000\n",
       "mean         20.004496            20.815653\n",
       "std           3.867752            18.110057\n",
       "min           0.000000             0.000000\n",
       "25%          18.000000             7.000000\n",
       "50%          21.000000            16.000000\n",
       "75%          23.000000            30.000000\n",
       "max          24.000000            98.000000"
      ]
     },
     "execution_count": 176,
     "metadata": {},
     "output_type": "execute_result"
    }
   ],
   "source": [
    "high_salary_outliers.describe()"
   ]
  },
  {
   "cell_type": "code",
   "execution_count": 177,
   "metadata": {
    "scrolled": true
   },
   "outputs": [
    {
     "data": {
      "text/html": [
       "<div>\n",
       "<style scoped>\n",
       "    .dataframe tbody tr th:only-of-type {\n",
       "        vertical-align: middle;\n",
       "    }\n",
       "\n",
       "    .dataframe tbody tr th {\n",
       "        vertical-align: top;\n",
       "    }\n",
       "\n",
       "    .dataframe thead th {\n",
       "        text-align: right;\n",
       "    }\n",
       "</style>\n",
       "<table border=\"1\" class=\"dataframe\">\n",
       "  <thead>\n",
       "    <tr style=\"text-align: right;\">\n",
       "      <th></th>\n",
       "      <th>yearsExperience</th>\n",
       "      <th>milesFromMetropolis</th>\n",
       "    </tr>\n",
       "    <tr>\n",
       "      <th>jobType</th>\n",
       "      <th></th>\n",
       "      <th></th>\n",
       "    </tr>\n",
       "  </thead>\n",
       "  <tbody>\n",
       "    <tr>\n",
       "      <th>CEO</th>\n",
       "      <td>19.475984</td>\n",
       "      <td>23.017354</td>\n",
       "    </tr>\n",
       "    <tr>\n",
       "      <th>CFO</th>\n",
       "      <td>20.348930</td>\n",
       "      <td>19.959893</td>\n",
       "    </tr>\n",
       "    <tr>\n",
       "      <th>CTO</th>\n",
       "      <td>20.129704</td>\n",
       "      <td>20.081989</td>\n",
       "    </tr>\n",
       "    <tr>\n",
       "      <th>JUNIOR</th>\n",
       "      <td>22.750000</td>\n",
       "      <td>8.950000</td>\n",
       "    </tr>\n",
       "    <tr>\n",
       "      <th>MANAGER</th>\n",
       "      <td>21.364055</td>\n",
       "      <td>14.000000</td>\n",
       "    </tr>\n",
       "    <tr>\n",
       "      <th>SENIOR</th>\n",
       "      <td>22.257576</td>\n",
       "      <td>10.651515</td>\n",
       "    </tr>\n",
       "    <tr>\n",
       "      <th>VICE_PRESIDENT</th>\n",
       "      <td>20.842454</td>\n",
       "      <td>16.925373</td>\n",
       "    </tr>\n",
       "  </tbody>\n",
       "</table>\n",
       "</div>"
      ],
      "text/plain": [
       "                yearsExperience  milesFromMetropolis\n",
       "jobType                                             \n",
       "CEO                   19.475984            23.017354\n",
       "CFO                   20.348930            19.959893\n",
       "CTO                   20.129704            20.081989\n",
       "JUNIOR                22.750000             8.950000\n",
       "MANAGER               21.364055            14.000000\n",
       "SENIOR                22.257576            10.651515\n",
       "VICE_PRESIDENT        20.842454            16.925373"
      ]
     },
     "execution_count": 177,
     "metadata": {},
     "output_type": "execute_result"
    }
   ],
   "source": [
    "high_salary_outliers.groupby('jobType').mean()"
   ]
  },
  {
   "cell_type": "markdown",
   "metadata": {},
   "source": [
    "- Most of The High Salary Employees Belong to High Ranking Job Types\n",
    "- The Majority of Them Are CEO/CFO/CTO \n",
    "- Some High Salary Employees Belong to Junior Position Employees ----> Further Inspection Required "
   ]
  },
  {
   "cell_type": "code",
   "execution_count": 178,
   "metadata": {
    "scrolled": false
   },
   "outputs": [
    {
     "data": {
      "text/html": [
       "<div>\n",
       "<style scoped>\n",
       "    .dataframe tbody tr th:only-of-type {\n",
       "        vertical-align: middle;\n",
       "    }\n",
       "\n",
       "    .dataframe tbody tr th {\n",
       "        vertical-align: top;\n",
       "    }\n",
       "\n",
       "    .dataframe thead th {\n",
       "        text-align: right;\n",
       "    }\n",
       "</style>\n",
       "<table border=\"1\" class=\"dataframe\">\n",
       "  <thead>\n",
       "    <tr style=\"text-align: right;\">\n",
       "      <th></th>\n",
       "      <th>jobId</th>\n",
       "      <th>jobType</th>\n",
       "      <th>degree</th>\n",
       "      <th>major</th>\n",
       "      <th>industry</th>\n",
       "      <th>yearsExperience</th>\n",
       "      <th>milesFromMetropolis</th>\n",
       "    </tr>\n",
       "    <tr>\n",
       "      <th>salary</th>\n",
       "      <th></th>\n",
       "      <th></th>\n",
       "      <th></th>\n",
       "      <th></th>\n",
       "      <th></th>\n",
       "      <th></th>\n",
       "      <th></th>\n",
       "    </tr>\n",
       "  </thead>\n",
       "  <tbody>\n",
       "    <tr>\n",
       "      <th>248</th>\n",
       "      <td>JOB1362684507729</td>\n",
       "      <td>JUNIOR</td>\n",
       "      <td>DOCTORAL</td>\n",
       "      <td>BUSINESS</td>\n",
       "      <td>FINANCE</td>\n",
       "      <td>23</td>\n",
       "      <td>8</td>\n",
       "    </tr>\n",
       "    <tr>\n",
       "      <th>246</th>\n",
       "      <td>JOB1362684435397</td>\n",
       "      <td>JUNIOR</td>\n",
       "      <td>DOCTORAL</td>\n",
       "      <td>ENGINEERING</td>\n",
       "      <td>OIL</td>\n",
       "      <td>24</td>\n",
       "      <td>3</td>\n",
       "    </tr>\n",
       "    <tr>\n",
       "      <th>236</th>\n",
       "      <td>JOB1362685151013</td>\n",
       "      <td>JUNIOR</td>\n",
       "      <td>DOCTORAL</td>\n",
       "      <td>BUSINESS</td>\n",
       "      <td>FINANCE</td>\n",
       "      <td>19</td>\n",
       "      <td>0</td>\n",
       "    </tr>\n",
       "    <tr>\n",
       "      <th>232</th>\n",
       "      <td>JOB1362685195361</td>\n",
       "      <td>JUNIOR</td>\n",
       "      <td>DOCTORAL</td>\n",
       "      <td>BUSINESS</td>\n",
       "      <td>FINANCE</td>\n",
       "      <td>18</td>\n",
       "      <td>15</td>\n",
       "    </tr>\n",
       "    <tr>\n",
       "      <th>230</th>\n",
       "      <td>JOB1362685035221</td>\n",
       "      <td>JUNIOR</td>\n",
       "      <td>DOCTORAL</td>\n",
       "      <td>ENGINEERING</td>\n",
       "      <td>OIL</td>\n",
       "      <td>24</td>\n",
       "      <td>29</td>\n",
       "    </tr>\n",
       "    <tr>\n",
       "      <th>228</th>\n",
       "      <td>JOB1362685204643</td>\n",
       "      <td>JUNIOR</td>\n",
       "      <td>MASTERS</td>\n",
       "      <td>BUSINESS</td>\n",
       "      <td>OIL</td>\n",
       "      <td>24</td>\n",
       "      <td>2</td>\n",
       "    </tr>\n",
       "    <tr>\n",
       "      <th>227</th>\n",
       "      <td>JOB1362684908426</td>\n",
       "      <td>JUNIOR</td>\n",
       "      <td>DOCTORAL</td>\n",
       "      <td>ENGINEERING</td>\n",
       "      <td>OIL</td>\n",
       "      <td>21</td>\n",
       "      <td>0</td>\n",
       "    </tr>\n",
       "    <tr>\n",
       "      <th>226</th>\n",
       "      <td>JOB1362684711465</td>\n",
       "      <td>JUNIOR</td>\n",
       "      <td>MASTERS</td>\n",
       "      <td>ENGINEERING</td>\n",
       "      <td>WEB</td>\n",
       "      <td>24</td>\n",
       "      <td>2</td>\n",
       "    </tr>\n",
       "    <tr>\n",
       "      <th>226</th>\n",
       "      <td>JOB1362684756041</td>\n",
       "      <td>JUNIOR</td>\n",
       "      <td>DOCTORAL</td>\n",
       "      <td>ENGINEERING</td>\n",
       "      <td>OIL</td>\n",
       "      <td>23</td>\n",
       "      <td>25</td>\n",
       "    </tr>\n",
       "    <tr>\n",
       "      <th>225</th>\n",
       "      <td>JOB1362684408909</td>\n",
       "      <td>JUNIOR</td>\n",
       "      <td>MASTERS</td>\n",
       "      <td>COMPSCI</td>\n",
       "      <td>OIL</td>\n",
       "      <td>24</td>\n",
       "      <td>5</td>\n",
       "    </tr>\n",
       "    <tr>\n",
       "      <th>225</th>\n",
       "      <td>JOB1362684439042</td>\n",
       "      <td>JUNIOR</td>\n",
       "      <td>DOCTORAL</td>\n",
       "      <td>COMPSCI</td>\n",
       "      <td>FINANCE</td>\n",
       "      <td>24</td>\n",
       "      <td>0</td>\n",
       "    </tr>\n",
       "    <tr>\n",
       "      <th>225</th>\n",
       "      <td>JOB1362685262906</td>\n",
       "      <td>JUNIOR</td>\n",
       "      <td>MASTERS</td>\n",
       "      <td>ENGINEERING</td>\n",
       "      <td>OIL</td>\n",
       "      <td>22</td>\n",
       "      <td>26</td>\n",
       "    </tr>\n",
       "    <tr>\n",
       "      <th>225</th>\n",
       "      <td>JOB1362685093462</td>\n",
       "      <td>JUNIOR</td>\n",
       "      <td>BACHELORS</td>\n",
       "      <td>ENGINEERING</td>\n",
       "      <td>OIL</td>\n",
       "      <td>24</td>\n",
       "      <td>13</td>\n",
       "    </tr>\n",
       "    <tr>\n",
       "      <th>225</th>\n",
       "      <td>JOB1362685053242</td>\n",
       "      <td>JUNIOR</td>\n",
       "      <td>DOCTORAL</td>\n",
       "      <td>BUSINESS</td>\n",
       "      <td>FINANCE</td>\n",
       "      <td>24</td>\n",
       "      <td>1</td>\n",
       "    </tr>\n",
       "    <tr>\n",
       "      <th>223</th>\n",
       "      <td>JOB1362685362055</td>\n",
       "      <td>JUNIOR</td>\n",
       "      <td>DOCTORAL</td>\n",
       "      <td>BUSINESS</td>\n",
       "      <td>OIL</td>\n",
       "      <td>24</td>\n",
       "      <td>26</td>\n",
       "    </tr>\n",
       "    <tr>\n",
       "      <th>223</th>\n",
       "      <td>JOB1362684568020</td>\n",
       "      <td>JUNIOR</td>\n",
       "      <td>DOCTORAL</td>\n",
       "      <td>BUSINESS</td>\n",
       "      <td>FINANCE</td>\n",
       "      <td>22</td>\n",
       "      <td>3</td>\n",
       "    </tr>\n",
       "    <tr>\n",
       "      <th>222</th>\n",
       "      <td>JOB1362684622293</td>\n",
       "      <td>JUNIOR</td>\n",
       "      <td>MASTERS</td>\n",
       "      <td>BUSINESS</td>\n",
       "      <td>FINANCE</td>\n",
       "      <td>22</td>\n",
       "      <td>4</td>\n",
       "    </tr>\n",
       "    <tr>\n",
       "      <th>222</th>\n",
       "      <td>JOB1362685064259</td>\n",
       "      <td>JUNIOR</td>\n",
       "      <td>DOCTORAL</td>\n",
       "      <td>BUSINESS</td>\n",
       "      <td>OIL</td>\n",
       "      <td>22</td>\n",
       "      <td>3</td>\n",
       "    </tr>\n",
       "    <tr>\n",
       "      <th>221</th>\n",
       "      <td>JOB1362684597269</td>\n",
       "      <td>JUNIOR</td>\n",
       "      <td>DOCTORAL</td>\n",
       "      <td>BUSINESS</td>\n",
       "      <td>OIL</td>\n",
       "      <td>24</td>\n",
       "      <td>11</td>\n",
       "    </tr>\n",
       "    <tr>\n",
       "      <th>221</th>\n",
       "      <td>JOB1362684835280</td>\n",
       "      <td>JUNIOR</td>\n",
       "      <td>DOCTORAL</td>\n",
       "      <td>ENGINEERING</td>\n",
       "      <td>FINANCE</td>\n",
       "      <td>23</td>\n",
       "      <td>3</td>\n",
       "    </tr>\n",
       "  </tbody>\n",
       "</table>\n",
       "</div>"
      ],
      "text/plain": [
       "                   jobId jobType     degree        major industry  \\\n",
       "salary                                                              \n",
       "248     JOB1362684507729  JUNIOR   DOCTORAL     BUSINESS  FINANCE   \n",
       "246     JOB1362684435397  JUNIOR   DOCTORAL  ENGINEERING      OIL   \n",
       "236     JOB1362685151013  JUNIOR   DOCTORAL     BUSINESS  FINANCE   \n",
       "232     JOB1362685195361  JUNIOR   DOCTORAL     BUSINESS  FINANCE   \n",
       "230     JOB1362685035221  JUNIOR   DOCTORAL  ENGINEERING      OIL   \n",
       "228     JOB1362685204643  JUNIOR    MASTERS     BUSINESS      OIL   \n",
       "227     JOB1362684908426  JUNIOR   DOCTORAL  ENGINEERING      OIL   \n",
       "226     JOB1362684711465  JUNIOR    MASTERS  ENGINEERING      WEB   \n",
       "226     JOB1362684756041  JUNIOR   DOCTORAL  ENGINEERING      OIL   \n",
       "225     JOB1362684408909  JUNIOR    MASTERS      COMPSCI      OIL   \n",
       "225     JOB1362684439042  JUNIOR   DOCTORAL      COMPSCI  FINANCE   \n",
       "225     JOB1362685262906  JUNIOR    MASTERS  ENGINEERING      OIL   \n",
       "225     JOB1362685093462  JUNIOR  BACHELORS  ENGINEERING      OIL   \n",
       "225     JOB1362685053242  JUNIOR   DOCTORAL     BUSINESS  FINANCE   \n",
       "223     JOB1362685362055  JUNIOR   DOCTORAL     BUSINESS      OIL   \n",
       "223     JOB1362684568020  JUNIOR   DOCTORAL     BUSINESS  FINANCE   \n",
       "222     JOB1362684622293  JUNIOR    MASTERS     BUSINESS  FINANCE   \n",
       "222     JOB1362685064259  JUNIOR   DOCTORAL     BUSINESS      OIL   \n",
       "221     JOB1362684597269  JUNIOR   DOCTORAL     BUSINESS      OIL   \n",
       "221     JOB1362684835280  JUNIOR   DOCTORAL  ENGINEERING  FINANCE   \n",
       "\n",
       "        yearsExperience  milesFromMetropolis  \n",
       "salary                                        \n",
       "248                  23                    8  \n",
       "246                  24                    3  \n",
       "236                  19                    0  \n",
       "232                  18                   15  \n",
       "230                  24                   29  \n",
       "228                  24                    2  \n",
       "227                  21                    0  \n",
       "226                  24                    2  \n",
       "226                  23                   25  \n",
       "225                  24                    5  \n",
       "225                  24                    0  \n",
       "225                  22                   26  \n",
       "225                  24                   13  \n",
       "225                  24                    1  \n",
       "223                  24                   26  \n",
       "223                  22                    3  \n",
       "222                  22                    4  \n",
       "222                  22                    3  \n",
       "221                  24                   11  \n",
       "221                  23                    3  "
      ]
     },
     "execution_count": 178,
     "metadata": {},
     "output_type": "execute_result"
    }
   ],
   "source": [
    "high_salary_juniors = high_salary_outliers[high_salary_outliers['jobType'] == 'JUNIOR']\n",
    "high_salary_juniors"
   ]
  },
  {
   "cell_type": "markdown",
   "metadata": {},
   "source": [
    "- Most of The High Salary Juniors Have Masters and Doctoral Degrees\n",
    "- The Only Employee With Bachelors Degree Has Over 20 Years of Experience\n",
    "- __Theres No Reason to Suspect that The Data Is Corrupted__"
   ]
  },
  {
   "cell_type": "markdown",
   "metadata": {},
   "source": [
    "- Checking for Any Logical Errors About Low Payed Employees(salary Below 8.5)"
   ]
  },
  {
   "cell_type": "code",
   "execution_count": 179,
   "metadata": {},
   "outputs": [
    {
     "data": {
      "text/html": [
       "<div>\n",
       "<style scoped>\n",
       "    .dataframe tbody tr th:only-of-type {\n",
       "        vertical-align: middle;\n",
       "    }\n",
       "\n",
       "    .dataframe tbody tr th {\n",
       "        vertical-align: top;\n",
       "    }\n",
       "\n",
       "    .dataframe thead th {\n",
       "        text-align: right;\n",
       "    }\n",
       "</style>\n",
       "<table border=\"1\" class=\"dataframe\">\n",
       "  <thead>\n",
       "    <tr style=\"text-align: right;\">\n",
       "      <th></th>\n",
       "      <th>jobId</th>\n",
       "      <th>jobType</th>\n",
       "      <th>degree</th>\n",
       "      <th>major</th>\n",
       "      <th>industry</th>\n",
       "      <th>yearsExperience</th>\n",
       "      <th>milesFromMetropolis</th>\n",
       "      <th>salary</th>\n",
       "    </tr>\n",
       "  </thead>\n",
       "  <tbody>\n",
       "  </tbody>\n",
       "</table>\n",
       "</div>"
      ],
      "text/plain": [
       "Empty DataFrame\n",
       "Columns: [jobId, jobType, degree, major, industry, yearsExperience, milesFromMetropolis, salary]\n",
       "Index: []"
      ]
     },
     "execution_count": 179,
     "metadata": {},
     "output_type": "execute_result"
    }
   ],
   "source": [
    "low_salary_outliers = train[train['salary'] < 8.5]\n",
    "low_salary_outliers"
   ]
  },
  {
   "cell_type": "markdown",
   "metadata": {},
   "source": [
    "- There Are No Employees with Salaries Lower than 8.5 "
   ]
  },
  {
   "cell_type": "markdown",
   "metadata": {},
   "source": [
    "<a id = featuresDistribution></a>\n",
    "## EDA 2 - Feature Distribution "
   ]
  },
  {
   "cell_type": "code",
   "execution_count": 180,
   "metadata": {},
   "outputs": [
    {
     "data": {
      "text/plain": [
       "array(['jobType', 'degree', 'major', 'industry'], dtype=object)"
      ]
     },
     "execution_count": 180,
     "metadata": {},
     "output_type": "execute_result"
    }
   ],
   "source": [
    "cat_cols = train.drop('jobId',axis=1).select_dtypes(['object']).columns.values\n",
    "cat_cols"
   ]
  },
  {
   "cell_type": "code",
   "execution_count": 181,
   "metadata": {},
   "outputs": [
    {
     "data": {
      "image/png": "[encoded data removed]",
      "text/plain": [
       "<Figure size 936x720 with 4 Axes>"
      ]
     },
     "metadata": {
      "needs_background": "light"
     },
     "output_type": "display_data"
    }
   ],
   "source": [
    "plt.figure(figsize=(13, 10))\n",
    "i = 1\n",
    "for col in cat_cols:\n",
    "    plt.subplot(3,3,i)\n",
    "    \n",
    "    sns.countplot(train[col])\n",
    "    plt.xticks(rotation = 45)\n",
    "    plt.tick_params(labelbottom = True)\n",
    "    \n",
    "    i += 1\n",
    "plt.tight_layout()"
   ]
  },
  {
   "cell_type": "markdown",
   "metadata": {},
   "source": [
    "- Jobtype, Degree and Industry Features Are Uniformly Distributed\n",
    "- Major Is __Not__ Uniformly Distributed"
   ]
  },
  {
   "cell_type": "markdown",
   "metadata": {},
   "source": [
    "<a id = FeaturesAnalysis></a>\n",
    "## EDA 3 - Feature Analysis - Finding Correlation for Each Feature with The Target (Salary)"
   ]
  },
  {
   "cell_type": "markdown",
   "metadata": {},
   "source": [
    "- <ins> __jobType__ </ins>:"
   ]
  },
  {
   "cell_type": "code",
   "execution_count": 182,
   "metadata": {},
   "outputs": [
    {
     "data": {
      "text/plain": [
       "[Text(0, 0, 'CTO'),\n",
       " Text(0, 0, 'CFO'),\n",
       " Text(0, 0, 'CEO'),\n",
       " Text(0, 0, 'VICE_PRESIDENT'),\n",
       " Text(0, 0, 'MANAGER'),\n",
       " Text(0, 0, 'SENIOR'),\n",
       " Text(0, 0, 'JUNIOR'),\n",
       " Text(0, 0, 'JANITOR')]"
      ]
     },
     "execution_count": 182,
     "metadata": {},
     "output_type": "execute_result"
    },
    {
     "data": {
      "image/png": "[encoded data removed]",
      "text/plain": [
       "<Figure size 432x288 with 1 Axes>"
      ]
     },
     "metadata": {
      "needs_background": "light"
     },
     "output_type": "display_data"
    }
   ],
   "source": [
    "job_salary_df = train[['jobType','salary']]\n",
    "sorted_train = job_salary_df.sort_values(ascending = False, by = 'salary')\n",
    "chart = sns.boxplot(x = 'jobType', y = 'salary', data=sorted_train)\n",
    "chart.set_xticklabels(chart.get_xticklabels(), rotation=45)"
   ]
  },
  {
   "cell_type": "code",
   "execution_count": 183,
   "metadata": {},
   "outputs": [
    {
     "data": {
      "text/plain": [
       "(array([-1.,  0.,  1.,  2.,  3.,  4.,  5.,  6.,  7.,  8.]),\n",
       " <a list of 10 Text xticklabel objects>)"
      ]
     },
     "execution_count": 183,
     "metadata": {},
     "output_type": "execute_result"
    },
    {
     "data": {
      "image/png": "[encoded data removed]",
      "text/plain": [
       "<Figure size 432x288 with 1 Axes>"
      ]
     },
     "metadata": {
      "needs_background": "light"
     },
     "output_type": "display_data"
    }
   ],
   "source": [
    "train.groupby('jobType')['salary'].mean().sort_values().plot()\n",
    "plt.xticks(rotation = 45)"
   ]
  },
  {
   "cell_type": "markdown",
   "metadata": {},
   "source": [
    "- Positive Correlation Between Job Type to Salary "
   ]
  },
  {
   "cell_type": "markdown",
   "metadata": {},
   "source": [
    "- <ins> __Degree__ </ins>:"
   ]
  },
  {
   "cell_type": "code",
   "execution_count": 184,
   "metadata": {},
   "outputs": [
    {
     "data": {
      "text/plain": [
       "[Text(0, 0, 'MASTERS'),\n",
       " Text(0, 0, 'DOCTORAL'),\n",
       " Text(0, 0, 'BACHELORS'),\n",
       " Text(0, 0, 'HIGH_SCHOOL'),\n",
       " Text(0, 0, 'NONE')]"
      ]
     },
     "execution_count": 184,
     "metadata": {},
     "output_type": "execute_result"
    },
    {
     "data": {
      "image/png": "[encoded data removed]",
      "text/plain": [
       "<Figure size 432x288 with 1 Axes>"
      ]
     },
     "metadata": {
      "needs_background": "light"
     },
     "output_type": "display_data"
    }
   ],
   "source": [
    "degree_salary_df = train[['degree','salary']]\n",
    "sorted_train = degree_salary_df.sort_values(ascending = False, by = 'salary')\n",
    "chart = sns.boxplot(x = 'degree', y = 'salary', data=sorted_train)\n",
    "chart.set_xticklabels(chart.get_xticklabels(), rotation=45)"
   ]
  },
  {
   "cell_type": "code",
   "execution_count": 185,
   "metadata": {},
   "outputs": [
    {
     "data": {
      "text/plain": [
       "(array([-0.5,  0. ,  0.5,  1. ,  1.5,  2. ,  2.5,  3. ,  3.5,  4. ,  4.5]),\n",
       " <a list of 11 Text xticklabel objects>)"
      ]
     },
     "execution_count": 185,
     "metadata": {},
     "output_type": "execute_result"
    },
    {
     "data": {
      "image/png": "[encoded data removed]",
      "text/plain": [
       "<Figure size 432x288 with 1 Axes>"
      ]
     },
     "metadata": {
      "needs_background": "light"
     },
     "output_type": "display_data"
    }
   ],
   "source": [
    "train.groupby('degree')['salary'].mean().sort_values().plot()\n",
    "plt.xticks(rotation = 45)"
   ]
  },
  {
   "cell_type": "markdown",
   "metadata": {},
   "source": [
    "- Positive Correlation Between Degree to Salary "
   ]
  },
  {
   "cell_type": "markdown",
   "metadata": {},
   "source": [
    "- <ins> __Major__ </ins> :"
   ]
  },
  {
   "cell_type": "code",
   "execution_count": 186,
   "metadata": {
    "scrolled": false
   },
   "outputs": [
    {
     "data": {
      "text/plain": [
       "[Text(0, 0, 'ENGINEERING'),\n",
       " Text(0, 0, 'BUSINESS'),\n",
       " Text(0, 0, 'PHYSICS'),\n",
       " Text(0, 0, 'COMPSCI'),\n",
       " Text(0, 0, 'BIOLOGY'),\n",
       " Text(0, 0, 'CHEMISTRY'),\n",
       " Text(0, 0, 'MATH'),\n",
       " Text(0, 0, 'LITERATURE'),\n",
       " Text(0, 0, 'NONE')]"
      ]
     },
     "execution_count": 186,
     "metadata": {},
     "output_type": "execute_result"
    },
    {
     "data": {
      "image/png": "[encoded data removed]",
      "text/plain": [
       "<Figure size 432x288 with 1 Axes>"
      ]
     },
     "metadata": {
      "needs_background": "light"
     },
     "output_type": "display_data"
    }
   ],
   "source": [
    "major_salary_df = train[['major','salary']]\n",
    "sorted_train = major_salary_df.sort_values(ascending = False, by = 'salary')\n",
    "chart = sns.boxplot(x = 'major', y = 'salary', data=sorted_train)\n",
    "chart.set_xticklabels(chart.get_xticklabels(), rotation=45)"
   ]
  },
  {
   "cell_type": "code",
   "execution_count": 187,
   "metadata": {},
   "outputs": [
    {
     "data": {
      "text/plain": [
       "(array([0, 1, 2, 3, 4, 5, 6, 7, 8]), <a list of 9 Text xticklabel objects>)"
      ]
     },
     "execution_count": 187,
     "metadata": {},
     "output_type": "execute_result"
    },
    {
     "data": {
      "image/png": "[encoded data removed]",
      "text/plain": [
       "<Figure size 432x288 with 1 Axes>"
      ]
     },
     "metadata": {
      "needs_background": "light"
     },
     "output_type": "display_data"
    }
   ],
   "source": [
    "train.groupby('major')['salary'].mean().sort_values().plot(kind = 'bar')\n",
    "plt.xticks(rotation = 45)"
   ]
  },
  {
   "cell_type": "markdown",
   "metadata": {},
   "source": [
    "- The Highest Paying Majors Are : Engineering and Business "
   ]
  },
  {
   "cell_type": "markdown",
   "metadata": {},
   "source": [
    "- <ins> __Industry__ </ins> :"
   ]
  },
  {
   "cell_type": "code",
   "execution_count": 188,
   "metadata": {
    "scrolled": false
   },
   "outputs": [
    {
     "data": {
      "text/plain": [
       "[Text(0, 0, 'OIL'),\n",
       " Text(0, 0, 'FINANCE'),\n",
       " Text(0, 0, 'WEB'),\n",
       " Text(0, 0, 'HEALTH'),\n",
       " Text(0, 0, 'AUTO'),\n",
       " Text(0, 0, 'SERVICE'),\n",
       " Text(0, 0, 'EDUCATION')]"
      ]
     },
     "execution_count": 188,
     "metadata": {},
     "output_type": "execute_result"
    },
    {
     "data": {
      "image/png": "[encoded data removed]",
      "text/plain": [
       "<Figure size 432x288 with 1 Axes>"
      ]
     },
     "metadata": {
      "needs_background": "light"
     },
     "output_type": "display_data"
    }
   ],
   "source": [
    "industry_salary_df = train[['industry','salary']]\n",
    "sorted_train = industry_salary_df.sort_values(ascending = False, by = 'salary')\n",
    "chart = sns.boxplot(x = 'industry', y = 'salary', data=sorted_train)\n",
    "chart.set_xticklabels(chart.get_xticklabels(), rotation=45)"
   ]
  },
  {
   "cell_type": "code",
   "execution_count": 189,
   "metadata": {},
   "outputs": [
    {
     "data": {
      "text/plain": [
       "(array([0, 1, 2, 3, 4, 5, 6]), <a list of 7 Text xticklabel objects>)"
      ]
     },
     "execution_count": 189,
     "metadata": {},
     "output_type": "execute_result"
    },
    {
     "data": {
      "image/png": "[encoded data removed]",
      "text/plain": [
       "<Figure size 432x288 with 1 Axes>"
      ]
     },
     "metadata": {
      "needs_background": "light"
     },
     "output_type": "display_data"
    }
   ],
   "source": [
    "train.groupby('industry')['salary'].mean().sort_values().plot(kind = 'bar')\n",
    "plt.xticks(rotation = 45)"
   ]
  },
  {
   "cell_type": "markdown",
   "metadata": {},
   "source": [
    "- The Highest Paying Industries Are : Oil, Finance and Web "
   ]
  },
  {
   "cell_type": "markdown",
   "metadata": {},
   "source": [
    "- <ins>__Experience__</ins>:"
   ]
  },
  {
   "cell_type": "code",
   "execution_count": 190,
   "metadata": {},
   "outputs": [
    {
     "data": {
      "image/png": "[encoded data removed]",
      "text/plain": [
       "<Figure size 432x288 with 1 Axes>"
      ]
     },
     "metadata": {
      "needs_background": "light"
     },
     "output_type": "display_data"
    }
   ],
   "source": [
    "year_df = train.groupby('yearsExperience')['salary'].mean()\n",
    "fig = plt.figure()\n",
    "ax1 = fig.add_subplot(1,1,1)\n",
    "ax1.set_xlabel('Experience')\n",
    "ax1.set_ylabel('Salary')\n",
    "ax1.set_title('Experience vs Salary')\n",
    "year_df.plot(kind = 'line')\n",
    "plt.show()"
   ]
  },
  {
   "cell_type": "markdown",
   "metadata": {},
   "source": [
    "- Positive Correlation Between Experience to Salary "
   ]
  },
  {
   "cell_type": "markdown",
   "metadata": {},
   "source": [
    "- <ins>__milesFromMetropolis__<ins>:"
   ]
  },
  {
   "cell_type": "code",
   "execution_count": 191,
   "metadata": {},
   "outputs": [
    {
     "data": {
      "image/png": "[encoded data removed]",
      "text/plain": [
       "<Figure size 432x288 with 1 Axes>"
      ]
     },
     "metadata": {
      "needs_background": "light"
     },
     "output_type": "display_data"
    }
   ],
   "source": [
    "distance_df = train.groupby('milesFromMetropolis')['salary'].mean()\n",
    "fig = plt.figure()\n",
    "ax1 = fig.add_subplot(1,1,1)\n",
    "ax1.set_xlabel('distance')\n",
    "ax1.set_ylabel('Salary')\n",
    "ax1.set_title('distance vs Salary')\n",
    "distance_df.plot(kind = 'line')\n",
    "plt.show()"
   ]
  },
  {
   "cell_type": "markdown",
   "metadata": {},
   "source": [
    "- Negetive Correlation Between Miles from Metropolis to Salary "
   ]
  },
  {
   "cell_type": "markdown",
   "metadata": {},
   "source": [
    "<a id = CorrelationAnalysis></a>\n",
    "## EDA 4 - Correlation Analysis"
   ]
  },
  {
   "cell_type": "markdown",
   "metadata": {},
   "source": [
    "<ins> __Giving Categories a Score Value__ \n",
    "- Score = Salary Mean   "
   ]
  },
  {
   "cell_type": "code",
   "execution_count": 192,
   "metadata": {},
   "outputs": [],
   "source": [
    "def encode_label(df, col):\n",
    "    '''encode the categories using average salary for each category to replace label'''\n",
    "    cat_dict ={}\n",
    "    cats = df[col].cat.categories.tolist()\n",
    "    for cat in cats:\n",
    "        cat_dict[cat] = train_avg_salary[train_avg_salary[col] == cat]['salary'].mean()   \n",
    "    df[col] = df[col].map(cat_dict)\n",
    "train_avg_salary = train.copy()"
   ]
  },
  {
   "cell_type": "code",
   "execution_count": 193,
   "metadata": {},
   "outputs": [],
   "source": [
    "for col in train_avg_salary.columns:\n",
    "    if train_avg_salary[col].dtype.name == \"object\" and col != 'jobId':\n",
    "        train_avg_salary[col] = train_avg_salary[col].astype('category')\n",
    "        encode_label(train_avg_salary, col)\n",
    "        train_avg_salary[col] = pd.to_numeric(train_avg_salary[col])"
   ]
  },
  {
   "cell_type": "code",
   "execution_count": 194,
   "metadata": {
    "scrolled": false
   },
   "outputs": [
    {
     "data": {
      "image/png": "[encoded data removed]",
      "text/plain": [
       "<Figure size 864x864 with 2 Axes>"
      ]
     },
     "metadata": {
      "needs_background": "light"
     },
     "output_type": "display_data"
    }
   ],
   "source": [
    "# Correlations between selected features and response\n",
    "# jobId is discarded because it is unique for individual\n",
    "fig = plt.figure(figsize=(12, 12))\n",
    "features = [\n",
    " 'jobType',\n",
    " 'degree',\n",
    " 'major',\n",
    " 'industry',\n",
    " 'yearsExperience',\n",
    " 'milesFromMetropolis']\n",
    " \n",
    "sns.heatmap(train_avg_salary[features + ['salary']].corr(),xticklabels=1 ,cmap='Blues', annot=True)\n",
    "plt.xticks(rotation=45)\n",
    "plt.show()"
   ]
  },
  {
   "cell_type": "markdown",
   "metadata": {},
   "source": [
    "<ins> __Positive Correlation with Salary:__\n",
    "- Jobtype\n",
    "- Degree\n",
    "- Major and Experience\n",
    "- Industry\n",
    "\n",
    "<ins> __Negetive Correlation with Salary:__\n",
    "- Miles from Metropolis\n",
    "\n",
    "<ins> __Other Notes:__\n",
    "- There's a Positive Correlation Square for The Features : Job Type, Degree and Major\n",
    "- There's a __Very High Correlation__ Between Degree and Major, Such Correlation Will Negatively Affect Some Models"
   ]
  },
  {
   "cell_type": "markdown",
   "metadata": {},
   "source": [
    "<a id = BaselineModel></a>\n",
    "## EDA 5 - Establishing a Baseline Model\n",
    "- The Metric Chosen to Measure Performance Is : MSE"
   ]
  },
  {
   "cell_type": "markdown",
   "metadata": {},
   "source": [
    "- Let's Consider a Model that Predicts the Salary Based Solely On The Job Type\n",
    "For Instance, if Mean Salary of Manager Is 100k, Then All the Jobs with Job Type 'manager' Will Have 100k as Their Predicted Salary"
   ]
  },
  {
   "cell_type": "code",
   "execution_count": 195,
   "metadata": {},
   "outputs": [],
   "source": [
    "train[['jobType','major','degree','industry']] = train[['jobType','major','degree','industry']].astype('category')"
   ]
  },
  {
   "cell_type": "code",
   "execution_count": 196,
   "metadata": {},
   "outputs": [],
   "source": [
    "def baseline(df,col):\n",
    "    \n",
    "    jobs_dict = {}\n",
    "    pred_salary = []\n",
    "    jobs = train[col].cat.categories.tolist()\n",
    "    \n",
    "    for job in jobs:\n",
    "        jobs_dict[job] = train[train[col] == job]['salary'].mean()\n",
    "    \n",
    "    pred_salary = df[col].map(jobs_dict)\n",
    "    \n",
    "    return pred_salary"
   ]
  },
  {
   "cell_type": "code",
   "execution_count": 197,
   "metadata": {},
   "outputs": [
    {
     "data": {
      "text/plain": [
       "0         135.458547\n",
       "1         145.311425\n",
       "2         125.368630\n",
       "3         115.368518\n",
       "4         125.368630\n",
       "             ...    \n",
       "999995    125.368630\n",
       "999996    135.481067\n",
       "999997     95.333087\n",
       "999998    135.458547\n",
       "999999     95.333087\n",
       "Name: jobType, Length: 999995, dtype: category\n",
       "Categories (8, float64): [145.311425, 135.458547, 135.481067, 70.813045, 95.333087, 115.368518, 105.487775, 125.368630]"
      ]
     },
     "execution_count": 197,
     "metadata": {},
     "output_type": "execute_result"
    }
   ],
   "source": [
    "baseline(train,'jobType')"
   ]
  },
  {
   "cell_type": "code",
   "execution_count": 198,
   "metadata": {},
   "outputs": [
    {
     "name": "stdout",
     "output_type": "stream",
     "text": [
      "baseline_model has an MSE of:  963.9252996562975\n"
     ]
    }
   ],
   "source": [
    "baseline_score = mse(train['salary'], baseline(train, 'jobType'))\n",
    "print('baseline_model has an MSE of: ',baseline_score )"
   ]
  },
  {
   "cell_type": "markdown",
   "metadata": {},
   "source": [
    "- Our Aim Is to Achieve a Better Score than __963.9 Mean Squared Error__"
   ]
  },
  {
   "cell_type": "markdown",
   "metadata": {},
   "source": [
    "# <ins> Pre-processing "
   ]
  },
  {
   "cell_type": "markdown",
   "metadata": {},
   "source": [
    "<a id = CategoricalData></a>\n",
    "## Turning categorical data into numeric values"
   ]
  },
  {
   "cell_type": "code",
   "execution_count": 199,
   "metadata": {},
   "outputs": [],
   "source": [
    "categorical_vars = ['jobType', 'degree', 'industry','major']\n",
    "numeric_vars = ['yearsExperience', 'milesFromMetropolis']\n",
    "target_var = 'salary'"
   ]
  },
  {
   "cell_type": "markdown",
   "metadata": {},
   "source": [
    "<ins> __Turning Ordinal Data(Job Type, Degree) Into Numerical__"
   ]
  },
  {
   "cell_type": "code",
   "execution_count": 200,
   "metadata": {},
   "outputs": [],
   "source": [
    "cat_df = pd.get_dummies(train[categorical_vars])\n",
    "num_df = train[numeric_vars]"
   ]
  },
  {
   "cell_type": "markdown",
   "metadata": {},
   "source": [
    "<a id = TrainAndTarget></a>\n",
    "## Creating Train and Target Data Sets"
   ]
  },
  {
   "cell_type": "code",
   "execution_count": 201,
   "metadata": {},
   "outputs": [],
   "source": [
    "clean_train_df = pd.concat([cat_df,num_df],axis=1)\n",
    "target_df = train[target_var]"
   ]
  },
  {
   "cell_type": "code",
   "execution_count": 202,
   "metadata": {},
   "outputs": [
    {
     "data": {
      "text/plain": [
       "(999995, 31)"
      ]
     },
     "execution_count": 202,
     "metadata": {},
     "output_type": "execute_result"
    }
   ],
   "source": [
    "clean_train_df.shape"
   ]
  },
  {
   "cell_type": "code",
   "execution_count": 203,
   "metadata": {
    "scrolled": true
   },
   "outputs": [
    {
     "data": {
      "text/plain": [
       "Index(['jobType_CEO', 'jobType_CFO', 'jobType_CTO', 'jobType_JANITOR',\n",
       "       'jobType_JUNIOR', 'jobType_MANAGER', 'jobType_SENIOR',\n",
       "       'jobType_VICE_PRESIDENT', 'degree_BACHELORS', 'degree_DOCTORAL',\n",
       "       'degree_HIGH_SCHOOL', 'degree_MASTERS', 'degree_NONE', 'industry_AUTO',\n",
       "       'industry_EDUCATION', 'industry_FINANCE', 'industry_HEALTH',\n",
       "       'industry_OIL', 'industry_SERVICE', 'industry_WEB', 'major_BIOLOGY',\n",
       "       'major_BUSINESS', 'major_CHEMISTRY', 'major_COMPSCI',\n",
       "       'major_ENGINEERING', 'major_LITERATURE', 'major_MATH', 'major_NONE',\n",
       "       'major_PHYSICS', 'yearsExperience', 'milesFromMetropolis'],\n",
       "      dtype='object')"
      ]
     },
     "execution_count": 203,
     "metadata": {},
     "output_type": "execute_result"
    }
   ],
   "source": [
    "clean_train_df.columns"
   ]
  },
  {
   "cell_type": "markdown",
   "metadata": {},
   "source": [
    "# <INS> Develop"
   ]
  },
  {
   "cell_type": "markdown",
   "metadata": {},
   "source": [
    "<a id = CreatingModels></a>\n",
    "##  Creating Models"
   ]
  },
  {
   "cell_type": "markdown",
   "metadata": {},
   "source": [
    "1) <ins> __Linear Regression__<ins>"
   ]
  },
  {
   "cell_type": "code",
   "execution_count": 205,
   "metadata": {},
   "outputs": [],
   "source": [
    "X = np.array(clean_train_df)\n",
    "y = np.array(target_df)\n",
    "X_train, X_test , y_train , y_test = train_test_split(X,y,test_size=0.2)"
   ]
  },
  {
   "cell_type": "code",
   "execution_count": 206,
   "metadata": {
    "scrolled": true
   },
   "outputs": [
    {
     "name": "stdout",
     "output_type": "stream",
     "text": [
      "Linear Regression:\n",
      "Regression Accuracy : 0.7438185950862517\n"
     ]
    }
   ],
   "source": [
    "clf = LinearRegression()\n",
    "clf.fit(X_train,y_train)\n",
    "y_pred = clf.predict(X_test)\n",
    "print('Linear Regression:')\n",
    "accuracy0 = clf.score(X_test,y_test)\n",
    "print('Regression Accuracy : ' + str(accuracy0))"
   ]
  },
  {
   "cell_type": "markdown",
   "metadata": {},
   "source": [
    "2) <ins> __RandomForest__<ins>"
   ]
  },
  {
   "cell_type": "code",
   "execution_count": 207,
   "metadata": {},
   "outputs": [],
   "source": [
    "X = np.array(clean_train_df)\n",
    "y = np.array(target_df)\n",
    "X_train, X_test , y_train , y_test = train_test_split(X,y,test_size=0.2)"
   ]
  },
  {
   "cell_type": "code",
   "execution_count": 208,
   "metadata": {},
   "outputs": [
    {
     "name": "stdout",
     "output_type": "stream",
     "text": [
      "Random Forest:\n",
      "Random Forest Accuracy : 0.7566824932891807\n"
     ]
    }
   ],
   "source": [
    "rf = RandomForestRegressor(n_estimators = 100, n_jobs=-1, max_depth = 25, min_samples_split=60 )\n",
    "rf.fit(X_train,y_train)\n",
    "print('Random Forest:')\n",
    "accuracy0 = rf.score(X_test,y_test)\n",
    "print('Random Forest Accuracy : ' + str(accuracy0))"
   ]
  },
  {
   "cell_type": "markdown",
   "metadata": {},
   "source": [
    "3) <ins> __GradientBoosting__<ins>"
   ]
  },
  {
   "cell_type": "code",
   "execution_count": 209,
   "metadata": {},
   "outputs": [],
   "source": [
    "X = np.array(clean_train_df)\n",
    "y = np.array(target_df)\n",
    "X_train, X_test , y_train , y_test = train_test_split(X,y,test_size=0.2)"
   ]
  },
  {
   "cell_type": "code",
   "execution_count": 210,
   "metadata": {},
   "outputs": [
    {
     "name": "stdout",
     "output_type": "stream",
     "text": [
      "Gradient Boosting:\n",
      "Gradient Boosting Accuracy : 0.7614124611269681\n"
     ]
    }
   ],
   "source": [
    "gbm = GradientBoostingRegressor(n_estimators=100, max_depth=6, loss='ls',verbose=0)\n",
    "gbm.fit(X_train,y_train)\n",
    "print('Gradient Boosting:')\n",
    "accuracy0 = gbm.score(X_test,y_test)\n",
    "print('Gradient Boosting Accuracy : ' + str(accuracy0))"
   ]
  },
  {
   "cell_type": "code",
   "execution_count": 211,
   "metadata": {
    "scrolled": true
   },
   "outputs": [
    {
     "name": "stdout",
     "output_type": "stream",
     "text": [
      "Beginning cross validation\n",
      "LinearRegression() \n",
      "Average MSE:\n",
      " 384.4522213044704\n",
      "Standard deviation during CV:\n",
      " 1.5161618654514382\n"
     ]
    }
   ],
   "source": [
    "mean_mse = {}\n",
    "cv_std = {}\n",
    "\n",
    "\n",
    "neg_mse = cross_val_score(clf, X_train, y_train, cv=5, n_jobs=2, scoring='neg_mean_squared_error')\n",
    "mean_mse[clf] = -1.0*np.mean(neg_mse)\n",
    "cv_std[clf] = np.std(neg_mse)\n",
    "\n",
    "print(\"Beginning cross validation\")\n",
    "print('LinearRegression() ')\n",
    "print('Average MSE:\\n', mean_mse[clf])\n",
    "print('Standard deviation during CV:\\n', cv_std[clf])"
   ]
  },
  {
   "cell_type": "code",
   "execution_count": 212,
   "metadata": {},
   "outputs": [
    {
     "name": "stdout",
     "output_type": "stream",
     "text": [
      "Beginning cross validation\n",
      "RandomForest \n",
      "Average MSE:\n",
      " 367.0372453106321\n",
      "Standard deviation during CV:\n",
      " 1.1793697694990812\n"
     ]
    }
   ],
   "source": [
    "mean_mse = {}\n",
    "cv_std = {}\n",
    "\n",
    "\n",
    "neg_mse = cross_val_score(rf, X_train, y_train, cv=5, n_jobs=2, scoring='neg_mean_squared_error')\n",
    "mean_mse[rf] = -1.0*np.mean(neg_mse)\n",
    "cv_std[rf] = np.std(neg_mse)\n",
    "\n",
    "print(\"Beginning cross validation\")\n",
    "print('RandomForest ')\n",
    "print('Average MSE:\\n', mean_mse[rf])\n",
    "print('Standard deviation during CV:\\n', cv_std[rf])"
   ]
  },
  {
   "cell_type": "code",
   "execution_count": 213,
   "metadata": {
    "scrolled": true
   },
   "outputs": [
    {
     "name": "stdout",
     "output_type": "stream",
     "text": [
      "Beginning cross validation\n",
      "Gradient Boosting \n",
      "Average MSE:\n",
      " 358.0718742654236\n",
      "Standard deviation during CV:\n",
      " 1.4564274169623386\n"
     ]
    }
   ],
   "source": [
    "mean_mse = {}\n",
    "cv_std = {}\n",
    "\n",
    "\n",
    "neg_mse = cross_val_score(gbm, X_train, y_train, cv=5, scoring='neg_mean_squared_error')\n",
    "mean_mse[gbm] = -1.0*np.mean(neg_mse)\n",
    "cv_std[gbm] = np.std(neg_mse)\n",
    "\n",
    "print(\"Beginning cross validation\")\n",
    "print('Gradient Boosting ')\n",
    "print('Average MSE:\\n', mean_mse[gbm])\n",
    "print('Standard deviation during CV:\\n', cv_std[gbm])"
   ]
  },
  {
   "cell_type": "markdown",
   "metadata": {},
   "source": [
    "<a id = ModelSelection></a>\n",
    "## Selecting the best model"
   ]
  },
  {
   "cell_type": "markdown",
   "metadata": {},
   "source": [
    "- The Model with The Lowest Mean Square Error(MSE) Will Be the Best Model."
   ]
  },
  {
   "cell_type": "code",
   "execution_count": 214,
   "metadata": {},
   "outputs": [
    {
     "name": "stdout",
     "output_type": "stream",
     "text": [
      "\n",
      "Best model is: \n",
      "\n",
      "GradientBoostingRegressor(max_depth=6)\n"
     ]
    }
   ],
   "source": [
    "model = min(mean_mse, key=mean_mse.get)\n",
    "print('\\nBest model is: \\n')\n",
    "print(model)"
   ]
  },
  {
   "cell_type": "markdown",
   "metadata": {},
   "source": [
    "- We Need to Fit the __Gradient Boosting Regressor__ Model on All the Training Data to Make Future Salary Predictions from The Test Dataset"
   ]
  },
  {
   "cell_type": "code",
   "execution_count": 215,
   "metadata": {},
   "outputs": [
    {
     "data": {
      "text/plain": [
       "GradientBoostingRegressor(max_depth=6)"
      ]
     },
     "execution_count": 215,
     "metadata": {},
     "output_type": "execute_result"
    }
   ],
   "source": [
    "model.fit(X,y)"
   ]
  },
  {
   "cell_type": "markdown",
   "metadata": {},
   "source": [
    "# <ins> Deploy"
   ]
  },
  {
   "cell_type": "markdown",
   "metadata": {},
   "source": [
    "- The Test Data Should Be Cleaned as The Train Data Was Cleaned and It Should Undergo the Same Encoding and Manipulation to Match the Shape of The Training Dataset"
   ]
  },
  {
   "cell_type": "markdown",
   "metadata": {},
   "source": [
    "<a id = TestData ></a>\n",
    "<ins> __The Changes I Have Made to The  Training Dataset Are:__\n",
    "- Dropping Company Id Column\n",
    "- Dropping job Id Column\n",
    "- Turning Categorical Features Into Numeric via Dummy Variables"
   ]
  },
  {
   "cell_type": "code",
   "execution_count": 216,
   "metadata": {},
   "outputs": [],
   "source": [
    "test_feat = test_features.copy()"
   ]
  },
  {
   "cell_type": "code",
   "execution_count": 217,
   "metadata": {},
   "outputs": [],
   "source": [
    "test_feat = test_feat.drop('companyId',axis=1)\n",
    "test_feat = test_feat.drop('jobId',axis=1)"
   ]
  },
  {
   "cell_type": "code",
   "execution_count": 218,
   "metadata": {},
   "outputs": [],
   "source": [
    "categorical_vars = ['jobType', 'degree', 'industry','major']\n",
    "numeric_vars = ['yearsExperience', 'milesFromMetropolis']"
   ]
  },
  {
   "cell_type": "code",
   "execution_count": 219,
   "metadata": {},
   "outputs": [],
   "source": [
    "cat_df = pd.get_dummies(test_feat[categorical_vars])\n",
    "num_df = test_feat[numeric_vars]\n",
    "\n",
    "clean_test_df = pd.concat([cat_df,num_df],axis=1)"
   ]
  },
  {
   "cell_type": "code",
   "execution_count": 227,
   "metadata": {
    "scrolled": false
   },
   "outputs": [
    {
     "data": {
      "text/html": [
       "<div>\n",
       "<style scoped>\n",
       "    .dataframe tbody tr th:only-of-type {\n",
       "        vertical-align: middle;\n",
       "    }\n",
       "\n",
       "    .dataframe tbody tr th {\n",
       "        vertical-align: top;\n",
       "    }\n",
       "\n",
       "    .dataframe thead th {\n",
       "        text-align: right;\n",
       "    }\n",
       "</style>\n",
       "<table border=\"1\" class=\"dataframe\">\n",
       "  <thead>\n",
       "    <tr style=\"text-align: right;\">\n",
       "      <th></th>\n",
       "      <th>jobType_CEO</th>\n",
       "      <th>jobType_CFO</th>\n",
       "      <th>jobType_CTO</th>\n",
       "      <th>jobType_JANITOR</th>\n",
       "      <th>jobType_JUNIOR</th>\n",
       "      <th>jobType_MANAGER</th>\n",
       "      <th>jobType_SENIOR</th>\n",
       "      <th>jobType_VICE_PRESIDENT</th>\n",
       "      <th>degree_BACHELORS</th>\n",
       "      <th>degree_DOCTORAL</th>\n",
       "      <th>...</th>\n",
       "      <th>major_BUSINESS</th>\n",
       "      <th>major_CHEMISTRY</th>\n",
       "      <th>major_COMPSCI</th>\n",
       "      <th>major_ENGINEERING</th>\n",
       "      <th>major_LITERATURE</th>\n",
       "      <th>major_MATH</th>\n",
       "      <th>major_NONE</th>\n",
       "      <th>major_PHYSICS</th>\n",
       "      <th>yearsExperience</th>\n",
       "      <th>milesFromMetropolis</th>\n",
       "    </tr>\n",
       "  </thead>\n",
       "  <tbody>\n",
       "    <tr>\n",
       "      <th>0</th>\n",
       "      <td>0</td>\n",
       "      <td>0</td>\n",
       "      <td>0</td>\n",
       "      <td>0</td>\n",
       "      <td>0</td>\n",
       "      <td>1</td>\n",
       "      <td>0</td>\n",
       "      <td>0</td>\n",
       "      <td>0</td>\n",
       "      <td>0</td>\n",
       "      <td>...</td>\n",
       "      <td>0</td>\n",
       "      <td>0</td>\n",
       "      <td>0</td>\n",
       "      <td>0</td>\n",
       "      <td>0</td>\n",
       "      <td>0</td>\n",
       "      <td>1</td>\n",
       "      <td>0</td>\n",
       "      <td>22</td>\n",
       "      <td>73</td>\n",
       "    </tr>\n",
       "    <tr>\n",
       "      <th>1</th>\n",
       "      <td>0</td>\n",
       "      <td>0</td>\n",
       "      <td>0</td>\n",
       "      <td>0</td>\n",
       "      <td>1</td>\n",
       "      <td>0</td>\n",
       "      <td>0</td>\n",
       "      <td>0</td>\n",
       "      <td>0</td>\n",
       "      <td>0</td>\n",
       "      <td>...</td>\n",
       "      <td>0</td>\n",
       "      <td>0</td>\n",
       "      <td>0</td>\n",
       "      <td>0</td>\n",
       "      <td>0</td>\n",
       "      <td>0</td>\n",
       "      <td>1</td>\n",
       "      <td>0</td>\n",
       "      <td>20</td>\n",
       "      <td>47</td>\n",
       "    </tr>\n",
       "    <tr>\n",
       "      <th>2</th>\n",
       "      <td>0</td>\n",
       "      <td>0</td>\n",
       "      <td>1</td>\n",
       "      <td>0</td>\n",
       "      <td>0</td>\n",
       "      <td>0</td>\n",
       "      <td>0</td>\n",
       "      <td>0</td>\n",
       "      <td>0</td>\n",
       "      <td>0</td>\n",
       "      <td>...</td>\n",
       "      <td>0</td>\n",
       "      <td>0</td>\n",
       "      <td>0</td>\n",
       "      <td>0</td>\n",
       "      <td>0</td>\n",
       "      <td>0</td>\n",
       "      <td>0</td>\n",
       "      <td>0</td>\n",
       "      <td>17</td>\n",
       "      <td>9</td>\n",
       "    </tr>\n",
       "    <tr>\n",
       "      <th>3</th>\n",
       "      <td>0</td>\n",
       "      <td>0</td>\n",
       "      <td>0</td>\n",
       "      <td>0</td>\n",
       "      <td>0</td>\n",
       "      <td>1</td>\n",
       "      <td>0</td>\n",
       "      <td>0</td>\n",
       "      <td>0</td>\n",
       "      <td>0</td>\n",
       "      <td>...</td>\n",
       "      <td>0</td>\n",
       "      <td>0</td>\n",
       "      <td>0</td>\n",
       "      <td>0</td>\n",
       "      <td>0</td>\n",
       "      <td>0</td>\n",
       "      <td>1</td>\n",
       "      <td>0</td>\n",
       "      <td>14</td>\n",
       "      <td>96</td>\n",
       "    </tr>\n",
       "    <tr>\n",
       "      <th>4</th>\n",
       "      <td>0</td>\n",
       "      <td>0</td>\n",
       "      <td>0</td>\n",
       "      <td>0</td>\n",
       "      <td>1</td>\n",
       "      <td>0</td>\n",
       "      <td>0</td>\n",
       "      <td>0</td>\n",
       "      <td>0</td>\n",
       "      <td>1</td>\n",
       "      <td>...</td>\n",
       "      <td>0</td>\n",
       "      <td>0</td>\n",
       "      <td>0</td>\n",
       "      <td>0</td>\n",
       "      <td>0</td>\n",
       "      <td>0</td>\n",
       "      <td>0</td>\n",
       "      <td>0</td>\n",
       "      <td>10</td>\n",
       "      <td>44</td>\n",
       "    </tr>\n",
       "  </tbody>\n",
       "</table>\n",
       "<p>5 rows × 31 columns</p>\n",
       "</div>"
      ],
      "text/plain": [
       "   jobType_CEO  jobType_CFO  jobType_CTO  jobType_JANITOR  jobType_JUNIOR  \\\n",
       "0            0            0            0                0               0   \n",
       "1            0            0            0                0               1   \n",
       "2            0            0            1                0               0   \n",
       "3            0            0            0                0               0   \n",
       "4            0            0            0                0               1   \n",
       "\n",
       "   jobType_MANAGER  jobType_SENIOR  jobType_VICE_PRESIDENT  degree_BACHELORS  \\\n",
       "0                1               0                       0                 0   \n",
       "1                0               0                       0                 0   \n",
       "2                0               0                       0                 0   \n",
       "3                1               0                       0                 0   \n",
       "4                0               0                       0                 0   \n",
       "\n",
       "   degree_DOCTORAL  ...  major_BUSINESS  major_CHEMISTRY  major_COMPSCI  \\\n",
       "0                0  ...               0                0              0   \n",
       "1                0  ...               0                0              0   \n",
       "2                0  ...               0                0              0   \n",
       "3                0  ...               0                0              0   \n",
       "4                1  ...               0                0              0   \n",
       "\n",
       "   major_ENGINEERING  major_LITERATURE  major_MATH  major_NONE  major_PHYSICS  \\\n",
       "0                  0                 0           0           1              0   \n",
       "1                  0                 0           0           1              0   \n",
       "2                  0                 0           0           0              0   \n",
       "3                  0                 0           0           1              0   \n",
       "4                  0                 0           0           0              0   \n",
       "\n",
       "   yearsExperience  milesFromMetropolis  \n",
       "0               22                   73  \n",
       "1               20                   47  \n",
       "2               17                    9  \n",
       "3               14                   96  \n",
       "4               10                   44  \n",
       "\n",
       "[5 rows x 31 columns]"
      ]
     },
     "execution_count": 227,
     "metadata": {},
     "output_type": "execute_result"
    }
   ],
   "source": [
    "clean_test_df.head()"
   ]
  },
  {
   "cell_type": "code",
   "execution_count": 222,
   "metadata": {},
   "outputs": [],
   "source": [
    "#predicting the salaries from test dataset\n",
    "predictions = pd.DataFrame(model.predict(clean_test_df))"
   ]
  },
  {
   "cell_type": "code",
   "execution_count": 223,
   "metadata": {},
   "outputs": [],
   "source": [
    "#Concatenating the predicted salaries to the original test dataset\n",
    "prediction_df=pd.concat([test_features,predictions],axis=1)"
   ]
  },
  {
   "cell_type": "markdown",
   "metadata": {},
   "source": [
    "## Exporting The Predictions to A Csv File"
   ]
  },
  {
   "cell_type": "code",
   "execution_count": null,
   "metadata": {},
   "outputs": [],
   "source": [
    "prediction_df.to_csv('salaries_predicted.csv')"
   ]
  },
  {
   "cell_type": "markdown",
   "metadata": {},
   "source": [
    "<a id = FeatureImportance></a>\n",
    "## Feature Importances"
   ]
  },
  {
   "cell_type": "code",
   "execution_count": 224,
   "metadata": {},
   "outputs": [],
   "source": [
    "importance = model.feature_importances_\n",
    "feature_importances = pd.DataFrame({'feature':clean_test_df.columns, 'importance':importance})\n",
    "feature_importances.sort_values(by='importance', ascending=False, inplace=True)\n",
    "#set index to 'feature'\n",
    "feature_importances.set_index('feature', inplace=True, drop=True)"
   ]
  },
  {
   "cell_type": "code",
   "execution_count": 225,
   "metadata": {
    "scrolled": false
   },
   "outputs": [
    {
     "data": {
      "text/plain": [
       "Text(0.5, 1.0, 'FEATURE IMPORTANCE PLOT')"
      ]
     },
     "execution_count": 225,
     "metadata": {},
     "output_type": "execute_result"
    },
    {
     "data": {
      "image/png": "[encoded data removed]",
      "text/plain": [
       "<Figure size 1152x720 with 1 Axes>"
      ]
     },
     "metadata": {
      "needs_background": "light"
     },
     "output_type": "display_data"
    }
   ],
   "source": [
    "fig = feature_importances[0:27].plot.bar(figsize=(16,10))\n",
    "fig.set_title('FEATURE IMPORTANCE PLOT')"
   ]
  }
 ],
 "metadata": {
  "kernelspec": {
   "display_name": "Python 3",
   "language": "python",
   "name": "python3"
  },
  "language_info": {
   "codemirror_mode": {
    "name": "ipython",
    "version": 3
   },
   "file_extension": ".py",
   "mimetype": "text/x-python",
   "name": "python",
   "nbconvert_exporter": "python",
   "pygments_lexer": "ipython3",
   "version": "3.7.6"
  },
  "toc": {
   "base_numbering": 1,
   "nav_menu": {},
   "number_sections": true,
   "sideBar": true,
   "skip_h1_title": false,
   "title_cell": "Table of Contents",
   "title_sidebar": "Contents",
   "toc_cell": false,
   "toc_position": {
    "height": "calc(100% - 180px)",
    "left": "10px",
    "top": "150px",
    "width": "298px"
   },
   "toc_section_display": true,
   "toc_window_display": false
  },
  "varInspector": {
   "cols": {
    "lenName": 16,
    "lenType": 16,
    "lenVar": 40
   },
   "kernels_config": {
    "python": {
     "delete_cmd_postfix": "",
     "delete_cmd_prefix": "del ",
     "library": "var_list.py",
     "varRefreshCmd": "print(var_dic_list())"
    },
    "r": {
     "delete_cmd_postfix": ") ",
     "delete_cmd_prefix": "rm(",
     "library": "var_list.r",
     "varRefreshCmd": "cat(var_dic_list()) "
    }
   },
   "types_to_exclude": [
    "module",
    "function",
    "builtin_function_or_method",
    "instance",
    "_Feature"
   ],
   "window_display": false
  }
 },
 "nbformat": 4,
 "nbformat_minor": 2
}
